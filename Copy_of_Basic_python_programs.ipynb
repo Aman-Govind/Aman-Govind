{
  "nbformat": 4,
  "nbformat_minor": 0,
  "metadata": {
    "colab": {
      "provenance": [],
      "include_colab_link": true
    },
    "kernelspec": {
      "name": "python3",
      "display_name": "Python 3"
    },
    "language_info": {
      "name": "python"
    }
  },
  "cells": [
    {
      "cell_type": "markdown",
      "metadata": {
        "id": "view-in-github",
        "colab_type": "text"
      },
      "source": [
        "<a href=\"https://colab.research.google.com/github/Aman-Govind/Aman-Govind/blob/main/Copy_of_Basic_python_programs.ipynb\" target=\"_parent\"><img src=\"https://colab.research.google.com/assets/colab-badge.svg\" alt=\"Open In Colab\"/></a>"
      ]
    },
    {
      "cell_type": "markdown",
      "source": [
        "## 1. Program to find largest of three numbers\n",
        "\n",
        "\n"
      ],
      "metadata": {
        "id": "M71fbCtRpBXZ"
      }
    },
    {
      "cell_type": "code",
      "source": [
        "\"\"\"\n",
        "# Python program to find the largest number among the three input numbers\n",
        "\"\"\"\n",
        "num1 = 40\n",
        "num2 = 24\n",
        "num3 = 32\n",
        "#uncomment following lines to take three numbers from user\n",
        "#num1 = float(input(\"Enter first number: \"))\n",
        "#num2 = float(input(\"Enter second number: \"))\n",
        "#num3 = float(input(\"Enter third number: \"))\n",
        "if (num1 >= num2) and (num1 >= num3):\n",
        "   largest = num1\n",
        "elif (num2 >= num1) and (num2 >= num3):\n",
        "   largest = num2\n",
        "else:\n",
        "   largest = num3\n",
        "print(\"The largest number is\", largest)"
      ],
      "metadata": {
        "colab": {
          "base_uri": "https://localhost:8080/"
        },
        "id": "IP0Rp8zNpGEL",
        "outputId": "41da3bdd-7ea6-417f-f2fe-9a37ec53a8bd"
      },
      "execution_count": 2,
      "outputs": [
        {
          "output_type": "stream",
          "name": "stdout",
          "text": [
            "The largest number is 40\n"
          ]
        }
      ]
    },
    {
      "cell_type": "markdown",
      "source": [
        "## 2. Printing multiplication table"
      ],
      "metadata": {
        "id": "yiWkBjCAR_0-"
      }
    },
    {
      "cell_type": "code",
      "execution_count": 9,
      "metadata": {
        "colab": {
          "base_uri": "https://localhost:8080/"
        },
        "id": "GXVl7OjcR71f",
        "outputId": "09fb8a53-4118-4574-bf20-c867cfb9dd80"
      },
      "outputs": [
        {
          "output_type": "stream",
          "name": "stdout",
          "text": [
            "Display multiplication table of? 76\n",
            "Multipilication table of: 1\n",
            "1 x 76 = 76\n",
            "2 x 76 = 152\n",
            "3 x 76 = 228\n",
            "4 x 76 = 304\n",
            "5 x 76 = 380\n",
            "6 x 76 = 456\n",
            "7 x 76 = 532\n",
            "8 x 76 = 608\n",
            "9 x 76 = 684\n",
            "10 x 76 = 760\n",
            "Multipilication table of: 2\n",
            "1 x 76 = 76\n",
            "2 x 76 = 152\n",
            "3 x 76 = 228\n",
            "4 x 76 = 304\n",
            "5 x 76 = 380\n",
            "6 x 76 = 456\n",
            "7 x 76 = 532\n",
            "8 x 76 = 608\n",
            "9 x 76 = 684\n",
            "10 x 76 = 760\n",
            "Multipilication table of: 3\n",
            "1 x 76 = 76\n",
            "2 x 76 = 152\n",
            "3 x 76 = 228\n",
            "4 x 76 = 304\n",
            "5 x 76 = 380\n",
            "6 x 76 = 456\n",
            "7 x 76 = 532\n",
            "8 x 76 = 608\n",
            "9 x 76 = 684\n",
            "10 x 76 = 760\n",
            "Multipilication table of: 4\n",
            "1 x 76 = 76\n",
            "2 x 76 = 152\n",
            "3 x 76 = 228\n",
            "4 x 76 = 304\n",
            "5 x 76 = 380\n",
            "6 x 76 = 456\n",
            "7 x 76 = 532\n",
            "8 x 76 = 608\n",
            "9 x 76 = 684\n",
            "10 x 76 = 760\n",
            "Multipilication table of: 5\n",
            "1 x 76 = 76\n",
            "2 x 76 = 152\n",
            "3 x 76 = 228\n",
            "4 x 76 = 304\n",
            "5 x 76 = 380\n",
            "6 x 76 = 456\n",
            "7 x 76 = 532\n",
            "8 x 76 = 608\n",
            "9 x 76 = 684\n",
            "10 x 76 = 760\n",
            "Multipilication table of: 6\n",
            "1 x 76 = 76\n",
            "2 x 76 = 152\n",
            "3 x 76 = 228\n",
            "4 x 76 = 304\n",
            "5 x 76 = 380\n",
            "6 x 76 = 456\n",
            "7 x 76 = 532\n",
            "8 x 76 = 608\n",
            "9 x 76 = 684\n",
            "10 x 76 = 760\n",
            "Multipilication table of: 7\n",
            "1 x 76 = 76\n",
            "2 x 76 = 152\n",
            "3 x 76 = 228\n",
            "4 x 76 = 304\n",
            "5 x 76 = 380\n",
            "6 x 76 = 456\n",
            "7 x 76 = 532\n",
            "8 x 76 = 608\n",
            "9 x 76 = 684\n",
            "10 x 76 = 760\n",
            "Multipilication table of: 8\n",
            "1 x 76 = 76\n",
            "2 x 76 = 152\n",
            "3 x 76 = 228\n",
            "4 x 76 = 304\n",
            "5 x 76 = 380\n",
            "6 x 76 = 456\n",
            "7 x 76 = 532\n",
            "8 x 76 = 608\n",
            "9 x 76 = 684\n",
            "10 x 76 = 760\n",
            "Multipilication table of: 9\n",
            "1 x 76 = 76\n",
            "2 x 76 = 152\n",
            "3 x 76 = 228\n",
            "4 x 76 = 304\n",
            "5 x 76 = 380\n",
            "6 x 76 = 456\n",
            "7 x 76 = 532\n",
            "8 x 76 = 608\n",
            "9 x 76 = 684\n",
            "10 x 76 = 760\n",
            "Multipilication table of: 10\n",
            "1 x 76 = 76\n",
            "2 x 76 = 152\n",
            "3 x 76 = 228\n",
            "4 x 76 = 304\n",
            "5 x 76 = 380\n",
            "6 x 76 = 456\n",
            "7 x 76 = 532\n",
            "8 x 76 = 608\n",
            "9 x 76 = 684\n",
            "10 x 76 = 760\n",
            "Multipilication table of: 11\n",
            "1 x 76 = 76\n",
            "2 x 76 = 152\n",
            "3 x 76 = 228\n",
            "4 x 76 = 304\n",
            "5 x 76 = 380\n",
            "6 x 76 = 456\n",
            "7 x 76 = 532\n",
            "8 x 76 = 608\n",
            "9 x 76 = 684\n",
            "10 x 76 = 760\n",
            "Multipilication table of: 12\n",
            "1 x 76 = 76\n",
            "2 x 76 = 152\n",
            "3 x 76 = 228\n",
            "4 x 76 = 304\n",
            "5 x 76 = 380\n",
            "6 x 76 = 456\n",
            "7 x 76 = 532\n",
            "8 x 76 = 608\n",
            "9 x 76 = 684\n",
            "10 x 76 = 760\n",
            "Multipilication table of: 13\n",
            "1 x 76 = 76\n",
            "2 x 76 = 152\n",
            "3 x 76 = 228\n",
            "4 x 76 = 304\n",
            "5 x 76 = 380\n",
            "6 x 76 = 456\n",
            "7 x 76 = 532\n",
            "8 x 76 = 608\n",
            "9 x 76 = 684\n",
            "10 x 76 = 760\n",
            "Multipilication table of: 14\n",
            "1 x 76 = 76\n",
            "2 x 76 = 152\n",
            "3 x 76 = 228\n",
            "4 x 76 = 304\n",
            "5 x 76 = 380\n",
            "6 x 76 = 456\n",
            "7 x 76 = 532\n",
            "8 x 76 = 608\n",
            "9 x 76 = 684\n",
            "10 x 76 = 760\n",
            "Multipilication table of: 15\n",
            "1 x 76 = 76\n",
            "2 x 76 = 152\n",
            "3 x 76 = 228\n",
            "4 x 76 = 304\n",
            "5 x 76 = 380\n",
            "6 x 76 = 456\n",
            "7 x 76 = 532\n",
            "8 x 76 = 608\n",
            "9 x 76 = 684\n",
            "10 x 76 = 760\n",
            "Multipilication table of: 16\n",
            "1 x 76 = 76\n",
            "2 x 76 = 152\n",
            "3 x 76 = 228\n",
            "4 x 76 = 304\n",
            "5 x 76 = 380\n",
            "6 x 76 = 456\n",
            "7 x 76 = 532\n",
            "8 x 76 = 608\n",
            "9 x 76 = 684\n",
            "10 x 76 = 760\n",
            "Multipilication table of: 17\n",
            "1 x 76 = 76\n",
            "2 x 76 = 152\n",
            "3 x 76 = 228\n",
            "4 x 76 = 304\n",
            "5 x 76 = 380\n",
            "6 x 76 = 456\n",
            "7 x 76 = 532\n",
            "8 x 76 = 608\n",
            "9 x 76 = 684\n",
            "10 x 76 = 760\n",
            "Multipilication table of: 18\n",
            "1 x 76 = 76\n",
            "2 x 76 = 152\n",
            "3 x 76 = 228\n",
            "4 x 76 = 304\n",
            "5 x 76 = 380\n",
            "6 x 76 = 456\n",
            "7 x 76 = 532\n",
            "8 x 76 = 608\n",
            "9 x 76 = 684\n",
            "10 x 76 = 760\n",
            "Multipilication table of: 19\n",
            "1 x 76 = 76\n",
            "2 x 76 = 152\n",
            "3 x 76 = 228\n",
            "4 x 76 = 304\n",
            "5 x 76 = 380\n",
            "6 x 76 = 456\n",
            "7 x 76 = 532\n",
            "8 x 76 = 608\n",
            "9 x 76 = 684\n",
            "10 x 76 = 760\n",
            "Multipilication table of: 20\n",
            "1 x 76 = 76\n",
            "2 x 76 = 152\n",
            "3 x 76 = 228\n",
            "4 x 76 = 304\n",
            "5 x 76 = 380\n",
            "6 x 76 = 456\n",
            "7 x 76 = 532\n",
            "8 x 76 = 608\n",
            "9 x 76 = 684\n",
            "10 x 76 = 760\n",
            "Multipilication table of: 21\n",
            "1 x 76 = 76\n",
            "2 x 76 = 152\n",
            "3 x 76 = 228\n",
            "4 x 76 = 304\n",
            "5 x 76 = 380\n",
            "6 x 76 = 456\n",
            "7 x 76 = 532\n",
            "8 x 76 = 608\n",
            "9 x 76 = 684\n",
            "10 x 76 = 760\n",
            "Multipilication table of: 22\n",
            "1 x 76 = 76\n",
            "2 x 76 = 152\n",
            "3 x 76 = 228\n",
            "4 x 76 = 304\n",
            "5 x 76 = 380\n",
            "6 x 76 = 456\n",
            "7 x 76 = 532\n",
            "8 x 76 = 608\n",
            "9 x 76 = 684\n",
            "10 x 76 = 760\n",
            "Multipilication table of: 23\n",
            "1 x 76 = 76\n",
            "2 x 76 = 152\n",
            "3 x 76 = 228\n",
            "4 x 76 = 304\n",
            "5 x 76 = 380\n",
            "6 x 76 = 456\n",
            "7 x 76 = 532\n",
            "8 x 76 = 608\n",
            "9 x 76 = 684\n",
            "10 x 76 = 760\n",
            "Multipilication table of: 24\n",
            "1 x 76 = 76\n",
            "2 x 76 = 152\n",
            "3 x 76 = 228\n",
            "4 x 76 = 304\n",
            "5 x 76 = 380\n",
            "6 x 76 = 456\n",
            "7 x 76 = 532\n",
            "8 x 76 = 608\n",
            "9 x 76 = 684\n",
            "10 x 76 = 760\n",
            "Multipilication table of: 25\n",
            "1 x 76 = 76\n",
            "2 x 76 = 152\n",
            "3 x 76 = 228\n",
            "4 x 76 = 304\n",
            "5 x 76 = 380\n",
            "6 x 76 = 456\n",
            "7 x 76 = 532\n",
            "8 x 76 = 608\n",
            "9 x 76 = 684\n",
            "10 x 76 = 760\n",
            "Multipilication table of: 26\n",
            "1 x 76 = 76\n",
            "2 x 76 = 152\n",
            "3 x 76 = 228\n",
            "4 x 76 = 304\n",
            "5 x 76 = 380\n",
            "6 x 76 = 456\n",
            "7 x 76 = 532\n",
            "8 x 76 = 608\n",
            "9 x 76 = 684\n",
            "10 x 76 = 760\n",
            "Multipilication table of: 27\n",
            "1 x 76 = 76\n",
            "2 x 76 = 152\n",
            "3 x 76 = 228\n",
            "4 x 76 = 304\n",
            "5 x 76 = 380\n",
            "6 x 76 = 456\n",
            "7 x 76 = 532\n",
            "8 x 76 = 608\n",
            "9 x 76 = 684\n",
            "10 x 76 = 760\n",
            "Multipilication table of: 28\n",
            "1 x 76 = 76\n",
            "2 x 76 = 152\n",
            "3 x 76 = 228\n",
            "4 x 76 = 304\n",
            "5 x 76 = 380\n",
            "6 x 76 = 456\n",
            "7 x 76 = 532\n",
            "8 x 76 = 608\n",
            "9 x 76 = 684\n",
            "10 x 76 = 760\n",
            "Multipilication table of: 29\n",
            "1 x 76 = 76\n",
            "2 x 76 = 152\n",
            "3 x 76 = 228\n",
            "4 x 76 = 304\n",
            "5 x 76 = 380\n",
            "6 x 76 = 456\n",
            "7 x 76 = 532\n",
            "8 x 76 = 608\n",
            "9 x 76 = 684\n",
            "10 x 76 = 760\n",
            "Multipilication table of: 30\n",
            "1 x 76 = 76\n",
            "2 x 76 = 152\n",
            "3 x 76 = 228\n",
            "4 x 76 = 304\n",
            "5 x 76 = 380\n",
            "6 x 76 = 456\n",
            "7 x 76 = 532\n",
            "8 x 76 = 608\n",
            "9 x 76 = 684\n",
            "10 x 76 = 760\n",
            "Multipilication table of: 31\n",
            "1 x 76 = 76\n",
            "2 x 76 = 152\n",
            "3 x 76 = 228\n",
            "4 x 76 = 304\n",
            "5 x 76 = 380\n",
            "6 x 76 = 456\n",
            "7 x 76 = 532\n",
            "8 x 76 = 608\n",
            "9 x 76 = 684\n",
            "10 x 76 = 760\n",
            "Multipilication table of: 32\n",
            "1 x 76 = 76\n",
            "2 x 76 = 152\n",
            "3 x 76 = 228\n",
            "4 x 76 = 304\n",
            "5 x 76 = 380\n",
            "6 x 76 = 456\n",
            "7 x 76 = 532\n",
            "8 x 76 = 608\n",
            "9 x 76 = 684\n",
            "10 x 76 = 760\n",
            "Multipilication table of: 33\n",
            "1 x 76 = 76\n",
            "2 x 76 = 152\n",
            "3 x 76 = 228\n",
            "4 x 76 = 304\n",
            "5 x 76 = 380\n",
            "6 x 76 = 456\n",
            "7 x 76 = 532\n",
            "8 x 76 = 608\n",
            "9 x 76 = 684\n",
            "10 x 76 = 760\n",
            "Multipilication table of: 34\n",
            "1 x 76 = 76\n",
            "2 x 76 = 152\n",
            "3 x 76 = 228\n",
            "4 x 76 = 304\n",
            "5 x 76 = 380\n",
            "6 x 76 = 456\n",
            "7 x 76 = 532\n",
            "8 x 76 = 608\n",
            "9 x 76 = 684\n",
            "10 x 76 = 760\n",
            "Multipilication table of: 35\n",
            "1 x 76 = 76\n",
            "2 x 76 = 152\n",
            "3 x 76 = 228\n",
            "4 x 76 = 304\n",
            "5 x 76 = 380\n",
            "6 x 76 = 456\n",
            "7 x 76 = 532\n",
            "8 x 76 = 608\n",
            "9 x 76 = 684\n",
            "10 x 76 = 760\n",
            "Multipilication table of: 36\n",
            "1 x 76 = 76\n",
            "2 x 76 = 152\n",
            "3 x 76 = 228\n",
            "4 x 76 = 304\n",
            "5 x 76 = 380\n",
            "6 x 76 = 456\n",
            "7 x 76 = 532\n",
            "8 x 76 = 608\n",
            "9 x 76 = 684\n",
            "10 x 76 = 760\n",
            "Multipilication table of: 37\n",
            "1 x 76 = 76\n",
            "2 x 76 = 152\n",
            "3 x 76 = 228\n",
            "4 x 76 = 304\n",
            "5 x 76 = 380\n",
            "6 x 76 = 456\n",
            "7 x 76 = 532\n",
            "8 x 76 = 608\n",
            "9 x 76 = 684\n",
            "10 x 76 = 760\n",
            "Multipilication table of: 38\n",
            "1 x 76 = 76\n",
            "2 x 76 = 152\n",
            "3 x 76 = 228\n",
            "4 x 76 = 304\n",
            "5 x 76 = 380\n",
            "6 x 76 = 456\n",
            "7 x 76 = 532\n",
            "8 x 76 = 608\n",
            "9 x 76 = 684\n",
            "10 x 76 = 760\n",
            "Multipilication table of: 39\n",
            "1 x 76 = 76\n",
            "2 x 76 = 152\n",
            "3 x 76 = 228\n",
            "4 x 76 = 304\n",
            "5 x 76 = 380\n",
            "6 x 76 = 456\n",
            "7 x 76 = 532\n",
            "8 x 76 = 608\n",
            "9 x 76 = 684\n",
            "10 x 76 = 760\n",
            "Multipilication table of: 40\n",
            "1 x 76 = 76\n",
            "2 x 76 = 152\n",
            "3 x 76 = 228\n",
            "4 x 76 = 304\n",
            "5 x 76 = 380\n",
            "6 x 76 = 456\n",
            "7 x 76 = 532\n",
            "8 x 76 = 608\n",
            "9 x 76 = 684\n",
            "10 x 76 = 760\n",
            "Multipilication table of: 41\n",
            "1 x 76 = 76\n",
            "2 x 76 = 152\n",
            "3 x 76 = 228\n",
            "4 x 76 = 304\n",
            "5 x 76 = 380\n",
            "6 x 76 = 456\n",
            "7 x 76 = 532\n",
            "8 x 76 = 608\n",
            "9 x 76 = 684\n",
            "10 x 76 = 760\n",
            "Multipilication table of: 42\n",
            "1 x 76 = 76\n",
            "2 x 76 = 152\n",
            "3 x 76 = 228\n",
            "4 x 76 = 304\n",
            "5 x 76 = 380\n",
            "6 x 76 = 456\n",
            "7 x 76 = 532\n",
            "8 x 76 = 608\n",
            "9 x 76 = 684\n",
            "10 x 76 = 760\n",
            "Multipilication table of: 43\n",
            "1 x 76 = 76\n",
            "2 x 76 = 152\n",
            "3 x 76 = 228\n",
            "4 x 76 = 304\n",
            "5 x 76 = 380\n",
            "6 x 76 = 456\n",
            "7 x 76 = 532\n",
            "8 x 76 = 608\n",
            "9 x 76 = 684\n",
            "10 x 76 = 760\n",
            "Multipilication table of: 44\n",
            "1 x 76 = 76\n",
            "2 x 76 = 152\n",
            "3 x 76 = 228\n",
            "4 x 76 = 304\n",
            "5 x 76 = 380\n",
            "6 x 76 = 456\n",
            "7 x 76 = 532\n",
            "8 x 76 = 608\n",
            "9 x 76 = 684\n",
            "10 x 76 = 760\n",
            "Multipilication table of: 45\n",
            "1 x 76 = 76\n",
            "2 x 76 = 152\n",
            "3 x 76 = 228\n",
            "4 x 76 = 304\n",
            "5 x 76 = 380\n",
            "6 x 76 = 456\n",
            "7 x 76 = 532\n",
            "8 x 76 = 608\n",
            "9 x 76 = 684\n",
            "10 x 76 = 760\n",
            "Multipilication table of: 46\n",
            "1 x 76 = 76\n",
            "2 x 76 = 152\n",
            "3 x 76 = 228\n",
            "4 x 76 = 304\n",
            "5 x 76 = 380\n",
            "6 x 76 = 456\n",
            "7 x 76 = 532\n",
            "8 x 76 = 608\n",
            "9 x 76 = 684\n",
            "10 x 76 = 760\n",
            "Multipilication table of: 47\n",
            "1 x 76 = 76\n",
            "2 x 76 = 152\n",
            "3 x 76 = 228\n",
            "4 x 76 = 304\n",
            "5 x 76 = 380\n",
            "6 x 76 = 456\n",
            "7 x 76 = 532\n",
            "8 x 76 = 608\n",
            "9 x 76 = 684\n",
            "10 x 76 = 760\n",
            "Multipilication table of: 48\n",
            "1 x 76 = 76\n",
            "2 x 76 = 152\n",
            "3 x 76 = 228\n",
            "4 x 76 = 304\n",
            "5 x 76 = 380\n",
            "6 x 76 = 456\n",
            "7 x 76 = 532\n",
            "8 x 76 = 608\n",
            "9 x 76 = 684\n",
            "10 x 76 = 760\n",
            "Multipilication table of: 49\n",
            "1 x 76 = 76\n",
            "2 x 76 = 152\n",
            "3 x 76 = 228\n",
            "4 x 76 = 304\n",
            "5 x 76 = 380\n",
            "6 x 76 = 456\n",
            "7 x 76 = 532\n",
            "8 x 76 = 608\n",
            "9 x 76 = 684\n",
            "10 x 76 = 760\n",
            "Multipilication table of: 50\n",
            "1 x 76 = 76\n",
            "2 x 76 = 152\n",
            "3 x 76 = 228\n",
            "4 x 76 = 304\n",
            "5 x 76 = 380\n",
            "6 x 76 = 456\n",
            "7 x 76 = 532\n",
            "8 x 76 = 608\n",
            "9 x 76 = 684\n",
            "10 x 76 = 760\n",
            "Multipilication table of: 51\n",
            "1 x 76 = 76\n",
            "2 x 76 = 152\n",
            "3 x 76 = 228\n",
            "4 x 76 = 304\n",
            "5 x 76 = 380\n",
            "6 x 76 = 456\n",
            "7 x 76 = 532\n",
            "8 x 76 = 608\n",
            "9 x 76 = 684\n",
            "10 x 76 = 760\n",
            "Multipilication table of: 52\n",
            "1 x 76 = 76\n",
            "2 x 76 = 152\n",
            "3 x 76 = 228\n",
            "4 x 76 = 304\n",
            "5 x 76 = 380\n",
            "6 x 76 = 456\n",
            "7 x 76 = 532\n",
            "8 x 76 = 608\n",
            "9 x 76 = 684\n",
            "10 x 76 = 760\n",
            "Multipilication table of: 53\n",
            "1 x 76 = 76\n",
            "2 x 76 = 152\n",
            "3 x 76 = 228\n",
            "4 x 76 = 304\n",
            "5 x 76 = 380\n",
            "6 x 76 = 456\n",
            "7 x 76 = 532\n",
            "8 x 76 = 608\n",
            "9 x 76 = 684\n",
            "10 x 76 = 760\n",
            "Multipilication table of: 54\n",
            "1 x 76 = 76\n",
            "2 x 76 = 152\n",
            "3 x 76 = 228\n",
            "4 x 76 = 304\n",
            "5 x 76 = 380\n",
            "6 x 76 = 456\n",
            "7 x 76 = 532\n",
            "8 x 76 = 608\n",
            "9 x 76 = 684\n",
            "10 x 76 = 760\n",
            "Multipilication table of: 55\n",
            "1 x 76 = 76\n",
            "2 x 76 = 152\n",
            "3 x 76 = 228\n",
            "4 x 76 = 304\n",
            "5 x 76 = 380\n",
            "6 x 76 = 456\n",
            "7 x 76 = 532\n",
            "8 x 76 = 608\n",
            "9 x 76 = 684\n",
            "10 x 76 = 760\n",
            "Multipilication table of: 56\n",
            "1 x 76 = 76\n",
            "2 x 76 = 152\n",
            "3 x 76 = 228\n",
            "4 x 76 = 304\n",
            "5 x 76 = 380\n",
            "6 x 76 = 456\n",
            "7 x 76 = 532\n",
            "8 x 76 = 608\n",
            "9 x 76 = 684\n",
            "10 x 76 = 760\n",
            "Multipilication table of: 57\n",
            "1 x 76 = 76\n",
            "2 x 76 = 152\n",
            "3 x 76 = 228\n",
            "4 x 76 = 304\n",
            "5 x 76 = 380\n",
            "6 x 76 = 456\n",
            "7 x 76 = 532\n",
            "8 x 76 = 608\n",
            "9 x 76 = 684\n",
            "10 x 76 = 760\n",
            "Multipilication table of: 58\n",
            "1 x 76 = 76\n",
            "2 x 76 = 152\n",
            "3 x 76 = 228\n",
            "4 x 76 = 304\n",
            "5 x 76 = 380\n",
            "6 x 76 = 456\n",
            "7 x 76 = 532\n",
            "8 x 76 = 608\n",
            "9 x 76 = 684\n",
            "10 x 76 = 760\n",
            "Multipilication table of: 59\n",
            "1 x 76 = 76\n",
            "2 x 76 = 152\n",
            "3 x 76 = 228\n",
            "4 x 76 = 304\n",
            "5 x 76 = 380\n",
            "6 x 76 = 456\n",
            "7 x 76 = 532\n",
            "8 x 76 = 608\n",
            "9 x 76 = 684\n",
            "10 x 76 = 760\n",
            "Multipilication table of: 60\n",
            "1 x 76 = 76\n",
            "2 x 76 = 152\n",
            "3 x 76 = 228\n",
            "4 x 76 = 304\n",
            "5 x 76 = 380\n",
            "6 x 76 = 456\n",
            "7 x 76 = 532\n",
            "8 x 76 = 608\n",
            "9 x 76 = 684\n",
            "10 x 76 = 760\n",
            "Multipilication table of: 61\n",
            "1 x 76 = 76\n",
            "2 x 76 = 152\n",
            "3 x 76 = 228\n",
            "4 x 76 = 304\n",
            "5 x 76 = 380\n",
            "6 x 76 = 456\n",
            "7 x 76 = 532\n",
            "8 x 76 = 608\n",
            "9 x 76 = 684\n",
            "10 x 76 = 760\n",
            "Multipilication table of: 62\n",
            "1 x 76 = 76\n",
            "2 x 76 = 152\n",
            "3 x 76 = 228\n",
            "4 x 76 = 304\n",
            "5 x 76 = 380\n",
            "6 x 76 = 456\n",
            "7 x 76 = 532\n",
            "8 x 76 = 608\n",
            "9 x 76 = 684\n",
            "10 x 76 = 760\n",
            "Multipilication table of: 63\n",
            "1 x 76 = 76\n",
            "2 x 76 = 152\n",
            "3 x 76 = 228\n",
            "4 x 76 = 304\n",
            "5 x 76 = 380\n",
            "6 x 76 = 456\n",
            "7 x 76 = 532\n",
            "8 x 76 = 608\n",
            "9 x 76 = 684\n",
            "10 x 76 = 760\n",
            "Multipilication table of: 64\n",
            "1 x 76 = 76\n",
            "2 x 76 = 152\n",
            "3 x 76 = 228\n",
            "4 x 76 = 304\n",
            "5 x 76 = 380\n",
            "6 x 76 = 456\n",
            "7 x 76 = 532\n",
            "8 x 76 = 608\n",
            "9 x 76 = 684\n",
            "10 x 76 = 760\n",
            "Multipilication table of: 65\n",
            "1 x 76 = 76\n",
            "2 x 76 = 152\n",
            "3 x 76 = 228\n",
            "4 x 76 = 304\n",
            "5 x 76 = 380\n",
            "6 x 76 = 456\n",
            "7 x 76 = 532\n",
            "8 x 76 = 608\n",
            "9 x 76 = 684\n",
            "10 x 76 = 760\n",
            "Multipilication table of: 66\n",
            "1 x 76 = 76\n",
            "2 x 76 = 152\n",
            "3 x 76 = 228\n",
            "4 x 76 = 304\n",
            "5 x 76 = 380\n",
            "6 x 76 = 456\n",
            "7 x 76 = 532\n",
            "8 x 76 = 608\n",
            "9 x 76 = 684\n",
            "10 x 76 = 760\n",
            "Multipilication table of: 67\n",
            "1 x 76 = 76\n",
            "2 x 76 = 152\n",
            "3 x 76 = 228\n",
            "4 x 76 = 304\n",
            "5 x 76 = 380\n",
            "6 x 76 = 456\n",
            "7 x 76 = 532\n",
            "8 x 76 = 608\n",
            "9 x 76 = 684\n",
            "10 x 76 = 760\n",
            "Multipilication table of: 68\n",
            "1 x 76 = 76\n",
            "2 x 76 = 152\n",
            "3 x 76 = 228\n",
            "4 x 76 = 304\n",
            "5 x 76 = 380\n",
            "6 x 76 = 456\n",
            "7 x 76 = 532\n",
            "8 x 76 = 608\n",
            "9 x 76 = 684\n",
            "10 x 76 = 760\n",
            "Multipilication table of: 69\n",
            "1 x 76 = 76\n",
            "2 x 76 = 152\n",
            "3 x 76 = 228\n",
            "4 x 76 = 304\n",
            "5 x 76 = 380\n",
            "6 x 76 = 456\n",
            "7 x 76 = 532\n",
            "8 x 76 = 608\n",
            "9 x 76 = 684\n",
            "10 x 76 = 760\n",
            "Multipilication table of: 70\n",
            "1 x 76 = 76\n",
            "2 x 76 = 152\n",
            "3 x 76 = 228\n",
            "4 x 76 = 304\n",
            "5 x 76 = 380\n",
            "6 x 76 = 456\n",
            "7 x 76 = 532\n",
            "8 x 76 = 608\n",
            "9 x 76 = 684\n",
            "10 x 76 = 760\n",
            "Multipilication table of: 71\n",
            "1 x 76 = 76\n",
            "2 x 76 = 152\n",
            "3 x 76 = 228\n",
            "4 x 76 = 304\n",
            "5 x 76 = 380\n",
            "6 x 76 = 456\n",
            "7 x 76 = 532\n",
            "8 x 76 = 608\n",
            "9 x 76 = 684\n",
            "10 x 76 = 760\n",
            "Multipilication table of: 72\n",
            "1 x 76 = 76\n",
            "2 x 76 = 152\n",
            "3 x 76 = 228\n",
            "4 x 76 = 304\n",
            "5 x 76 = 380\n",
            "6 x 76 = 456\n",
            "7 x 76 = 532\n",
            "8 x 76 = 608\n",
            "9 x 76 = 684\n",
            "10 x 76 = 760\n",
            "Multipilication table of: 73\n",
            "1 x 76 = 76\n",
            "2 x 76 = 152\n",
            "3 x 76 = 228\n",
            "4 x 76 = 304\n",
            "5 x 76 = 380\n",
            "6 x 76 = 456\n",
            "7 x 76 = 532\n",
            "8 x 76 = 608\n",
            "9 x 76 = 684\n",
            "10 x 76 = 760\n",
            "Multipilication table of: 74\n",
            "1 x 76 = 76\n",
            "2 x 76 = 152\n",
            "3 x 76 = 228\n",
            "4 x 76 = 304\n",
            "5 x 76 = 380\n",
            "6 x 76 = 456\n",
            "7 x 76 = 532\n",
            "8 x 76 = 608\n",
            "9 x 76 = 684\n",
            "10 x 76 = 760\n",
            "Multipilication table of: 75\n",
            "1 x 76 = 76\n",
            "2 x 76 = 152\n",
            "3 x 76 = 228\n",
            "4 x 76 = 304\n",
            "5 x 76 = 380\n",
            "6 x 76 = 456\n",
            "7 x 76 = 532\n",
            "8 x 76 = 608\n",
            "9 x 76 = 684\n",
            "10 x 76 = 760\n",
            "Multipilication table of: 76\n",
            "1 x 76 = 76\n",
            "2 x 76 = 152\n",
            "3 x 76 = 228\n",
            "4 x 76 = 304\n",
            "5 x 76 = 380\n",
            "6 x 76 = 456\n",
            "7 x 76 = 532\n",
            "8 x 76 = 608\n",
            "9 x 76 = 684\n",
            "10 x 76 = 760\n"
          ]
        }
      ],
      "source": [
        "\"\"\"\n",
        "# Multiplication table (from 1 to 10) in Python\n",
        "\"\"\"\n",
        "num = 12\n",
        "\n",
        "# To take input from the user\n",
        "num = int(input(\"Display multiplication table of? \"))\n",
        "for n in range(1,num+1):\n",
        "  # Iterate 10 times from p = 1 to 10\n",
        "  print(\"Multipilication table of:\",n)\n",
        "  for p in range(1, 11):\n",
        "    print(p, 'x', num, '=', num*p)"
      ]
    },
    {
      "cell_type": "markdown",
      "source": [
        ">**Task:** Get an integer less than 12 from the user and display its's ,multiplication table."
      ],
      "metadata": {
        "id": "NLCPCHIQx7I6"
      }
    },
    {
      "cell_type": "code",
      "source": [
        "# To take input from the user\n",
        "num = int(input(\"Display multiplication table of? \"))\n",
        "\n",
        "# Iterate 10 times from i = 1 to 10\n",
        "for i in range(1, 11):\n",
        "   print(i, 'x', num, '=', num*i)"
      ],
      "metadata": {
        "colab": {
          "base_uri": "https://localhost:8080/"
        },
        "id": "-TWleoH9ySsk",
        "outputId": "47459ce8-fb5c-4985-bd3f-6b36b2d9f391"
      },
      "execution_count": null,
      "outputs": [
        {
          "output_type": "stream",
          "name": "stdout",
          "text": [
            "Display multiplication table of? 9\n",
            "1 x 9 = 9\n",
            "2 x 9 = 18\n",
            "3 x 9 = 27\n",
            "4 x 9 = 36\n",
            "5 x 9 = 45\n",
            "6 x 9 = 54\n",
            "7 x 9 = 63\n",
            "8 x 9 = 72\n",
            "9 x 9 = 81\n",
            "10 x 9 = 90\n"
          ]
        }
      ]
    },
    {
      "cell_type": "markdown",
      "source": [
        "## Check for sign of a number"
      ],
      "metadata": {
        "id": "yo27A0UgSLMG"
      }
    },
    {
      "cell_type": "code",
      "source": [
        "num = float(input(\"Enter a number: \"))\n",
        "if num > 0:\n",
        "   print(\"Positive number\")\n",
        "elif num == 0:\n",
        "   print(\"Zero\")\n",
        "else:\n",
        "   print(\"Negative number\")"
      ],
      "metadata": {
        "colab": {
          "base_uri": "https://localhost:8080/"
        },
        "id": "qagw5dYPSOtO",
        "outputId": "eae6d414-7fbb-422f-b82d-f736ddfa3a93"
      },
      "execution_count": null,
      "outputs": [
        {
          "output_type": "stream",
          "name": "stdout",
          "text": [
            "Enter a number: -0.9\n",
            "Negative number\n"
          ]
        }
      ]
    },
    {
      "cell_type": "markdown",
      "source": [
        "## Find surface area and volume of a cylinder\n",
        "\n",
        "Let $r$ is the base radius and $h$ is the height of a right circular cylinder.\n",
        "$$SA=2\\pi r(r+h)$$\n",
        "\n",
        "$$V=\\pi r^2 h$$"
      ],
      "metadata": {
        "id": "Rr--yGIkVoaw"
      }
    },
    {
      "cell_type": "code",
      "source": [
        "#from math import pi\n",
        "pi=3.14\n",
        "r=2.6\n",
        "h=1.6\n",
        "SA=2*pi*r*(r+h)\n",
        "V=pi*r**2*h\n",
        "print((\"Surface Area is {} and Volume is {}\").format(SA,V))"
      ],
      "metadata": {
        "colab": {
          "base_uri": "https://localhost:8080/"
        },
        "id": "NP5Yahw5Wazn",
        "outputId": "f08fa1cb-0879-4d50-b6aa-87cfd698ba01"
      },
      "execution_count": null,
      "outputs": [
        {
          "output_type": "stream",
          "name": "stdout",
          "text": [
            "Surface Area is 68.57760000000002 and Volume is 33.96224\n"
          ]
        }
      ]
    },
    {
      "cell_type": "markdown",
      "source": [
        "## Find area of a circle with radius $r$ using user input"
      ],
      "metadata": {
        "id": "sSr3xEtuXdw-"
      }
    },
    {
      "cell_type": "code",
      "source": [
        "\"\"\"\n",
        "program to find area of a circle\n",
        "\"\"\"\n",
        "r=float(input(\"Enter the radius: \"))\n",
        "print(\"Area: \",pi*r**2)"
      ],
      "metadata": {
        "colab": {
          "base_uri": "https://localhost:8080/"
        },
        "id": "2joezx-KXljx",
        "outputId": "5eab0c01-0061-478a-a647-c97f69f28e71"
      },
      "execution_count": null,
      "outputs": [
        {
          "output_type": "stream",
          "name": "stdout",
          "text": [
            "Enter the radius: 6.3\n",
            "Area:  124.6266\n"
          ]
        }
      ]
    },
    {
      "cell_type": "markdown",
      "source": [
        "## Find the area of a rectangle with lenght $l$ and breadth $b$"
      ],
      "metadata": {
        "id": "VRlXLlz9YD6N"
      }
    },
    {
      "cell_type": "code",
      "source": [
        "l=2;b=5.2\n",
        "Area=l*b\n",
        "print(\"Area of the Rectangle is : \",Area)"
      ],
      "metadata": {
        "colab": {
          "base_uri": "https://localhost:8080/"
        },
        "id": "tE_hVFL2YK2F",
        "outputId": "fecd8378-eb1d-4c74-9692-3611652c3068"
      },
      "execution_count": null,
      "outputs": [
        {
          "output_type": "stream",
          "name": "stdout",
          "text": [
            "Area of the Rectangle is :  10.4\n"
          ]
        }
      ]
    },
    {
      "cell_type": "markdown",
      "source": [
        "## Replacing a word with another word  in a sentence\n",
        "\n",
        "Use the `replace()` method in `python`\n",
        "\n",
        ">**Syntax:**\n",
        "\n",
        "```\n",
        "str.replace(old,new)\n",
        "```\n",
        "\n"
      ],
      "metadata": {
        "id": "SP246J1XZHbk"
      }
    },
    {
      "cell_type": "code",
      "source": [
        "# program to replace a word by another word in a sentence\n",
        "\n",
        "text = 'hand ball is a hand full of hands'\n",
        "\n",
        "# replace 'hand' with 'foot'\n",
        "replaced_text = text.replace('hand ', 'foot ')\n",
        "print(replaced_text)"
      ],
      "metadata": {
        "colab": {
          "base_uri": "https://localhost:8080/"
        },
        "id": "QfIPj2_SZM6n",
        "outputId": "49f71787-5fc9-4245-cd7e-769bff7b0b08"
      },
      "execution_count": null,
      "outputs": [
        {
          "output_type": "stream",
          "name": "stdout",
          "text": [
            "foot ball is a foot full of foots\n"
          ]
        }
      ]
    },
    {
      "cell_type": "markdown",
      "source": [
        "## Program to remove a word from a sentence\n",
        "\n",
        "We will use the string method `remove()`.\n",
        "\n",
        ">**Syntax:**\n",
        "\n",
        "```\n",
        "str.remove(word to be removed)\n",
        "```"
      ],
      "metadata": {
        "id": "kpxkra3ZjgzQ"
      }
    },
    {
      "cell_type": "code",
      "source": [
        "# program to remove a word from a sentence\n",
        "text = input(\"Enter the String: \")\n",
        "word = input(\"Enter a Word to Delete: \")\n",
        "\n",
        "text = text.replace(word, \"\")\n",
        "print(\"The updated sentence is:\\n\")\n",
        "print(text)"
      ],
      "metadata": {
        "colab": {
          "base_uri": "https://localhost:8080/"
        },
        "id": "-bTOChg4kxRr",
        "outputId": "8dbdb8b0-d752-4567-d531-85028c329020"
      },
      "execution_count": null,
      "outputs": [
        {
          "output_type": "stream",
          "name": "stdout",
          "text": [
            "Enter the String: He is my friend\n",
            "Enter a Word to Delete: my\n",
            "The updated sentence is:\n",
            "\n",
            "He is  friend\n"
          ]
        }
      ]
    },
    {
      "cell_type": "code",
      "source": [
        "# program to remove a word from a sentence\n",
        "text = input(\"Enter the String: \")\n",
        "word = input(\"Enter a Word to Delete: \")\n",
        "\n",
        "text = text.remove(word)\n",
        "print(\"The updated sentence is:\\n\")\n",
        "print(text)"
      ],
      "metadata": {
        "id": "ccujKR0l7qwZ"
      },
      "execution_count": null,
      "outputs": []
    },
    {
      "cell_type": "markdown",
      "source": [
        "## Program to split a sentence into words\n",
        "\n",
        "use the `split()` method\n",
        ">**Syntax:**\n",
        "```\n",
        "str.split()\n",
        "```"
      ],
      "metadata": {
        "id": "NRg-zTGOlVKG"
      }
    },
    {
      "cell_type": "code",
      "source": [
        "wordlist = text.split()\n",
        "wordlist"
      ],
      "metadata": {
        "colab": {
          "base_uri": "https://localhost:8080/"
        },
        "id": "GjXgR_vmlqRd",
        "outputId": "4f9ed9a9-bcb1-4164-9955-ef8744a9b64c"
      },
      "execution_count": null,
      "outputs": [
        {
          "output_type": "execute_result",
          "data": {
            "text/plain": [
              "['You', 'are', 'girl']"
            ]
          },
          "metadata": {},
          "execution_count": 21
        }
      ]
    },
    {
      "cell_type": "markdown",
      "source": [
        "## Program to check if a list of words is in a long string at least one"
      ],
      "metadata": {
        "id": "EAo8docqnlRg"
      }
    },
    {
      "cell_type": "code",
      "source": [
        "# program to check atleat one occurance of keywords\n",
        "\n",
        "keyword_list = ['motorcycle', 'bike', 'bicycle', 'dirtbike', \"long\"]\n",
        "all_text = 'The bicycle is just as good company as most husbands and, when it gets old and shabby, a woman can dispose of it and get a new one without shocking the entire community'\n",
        "if set(keyword_list).intersection(all_text.split()):\n",
        "     print(\"Found One\")"
      ],
      "metadata": {
        "colab": {
          "base_uri": "https://localhost:8080/"
        },
        "id": "RnmT51ISnsVu",
        "outputId": "14d2a745-882a-4fd6-8a27-365a81f815c9"
      },
      "execution_count": null,
      "outputs": [
        {
          "output_type": "stream",
          "name": "stdout",
          "text": [
            "Found One\n"
          ]
        }
      ]
    },
    {
      "cell_type": "markdown",
      "source": [
        "## program to check a number is even or odd\n"
      ],
      "metadata": {
        "id": "WG6KupkbovWM"
      }
    },
    {
      "cell_type": "code",
      "source": [
        "num = int(input(\"Enter the Number: \"))\n",
        "if num%2==0:\n",
        "    print(\"\\n\",num,\"is an Even Number\")\n",
        "else:\n",
        "    print(\"\\n\",num,\"is an Odd Number\")"
      ],
      "metadata": {
        "colab": {
          "base_uri": "https://localhost:8080/"
        },
        "id": "b_-2wp13o0Vo",
        "outputId": "a5ecea89-d08d-4987-858a-65d91d441f94"
      },
      "execution_count": null,
      "outputs": [
        {
          "output_type": "stream",
          "name": "stdout",
          "text": [
            "Enter the Number: 22\n",
            "\n",
            " 22 is an Even Number\n"
          ]
        }
      ]
    },
    {
      "cell_type": "markdown",
      "source": [
        "## Program to check whether an entered one is an alphabet or not"
      ],
      "metadata": {
        "id": "kEo5cMDdpRlz"
      }
    },
    {
      "cell_type": "code",
      "source": [
        "c = input(\"Enter a Character: \")\n",
        "if c>='a' and c<='z':\n",
        "    print(\"\\nIt is an alphabet\")\n",
        "elif c>='A' and c<='z':\n",
        "    print(\"\\nIt is an alphabet\")\n",
        "else:\n",
        "    print(\"\\nIt is not an alphabet!\")"
      ],
      "metadata": {
        "colab": {
          "base_uri": "https://localhost:8080/"
        },
        "id": "ofx_FoHKpX_K",
        "outputId": "6a334ad9-1d22-43f0-bcb7-83982aa5121e"
      },
      "execution_count": null,
      "outputs": [
        {
          "output_type": "stream",
          "name": "stdout",
          "text": [
            "Enter a Character: 12\n",
            "\n",
            "It is not an alphabet!\n"
          ]
        }
      ]
    },
    {
      "cell_type": "markdown",
      "source": [
        "## Program to check whether an entered letter is a vowel or not"
      ],
      "metadata": {
        "id": "C4_oMf3apqzg"
      }
    },
    {
      "cell_type": "code",
      "source": [
        "c = input(\"Enter the Character: \")\n",
        "v={'a','e','i','o','u','A','E','I','O','U'}\n",
        "if c in v:\n",
        "    print(\"\\nIt is a Vowel\")\n",
        "else:\n",
        "    print(\"\\nIt is a Consonant\")"
      ],
      "metadata": {
        "colab": {
          "base_uri": "https://localhost:8080/"
        },
        "id": "CRAi0VdtpzPi",
        "outputId": "a60612ef-fb92-4bac-92cd-2e7daa784e30"
      },
      "execution_count": null,
      "outputs": [
        {
          "output_type": "stream",
          "name": "stdout",
          "text": [
            "Enter the Character: A\n",
            "\n",
            "It is a Vowel\n"
          ]
        }
      ]
    },
    {
      "cell_type": "markdown",
      "source": [
        ">**Another method**\n",
        "\n",
        "using `or` expression"
      ],
      "metadata": {
        "id": "iz3TO1SAqXKh"
      }
    },
    {
      "cell_type": "code",
      "source": [
        "c = input(\"Enter the Character: \")\n",
        "\n",
        "if c=='a' or c=='e' or c=='i' or c=='o' or c=='u':\n",
        "    print(\"\\nIt is a Vowel\")\n",
        "elif c=='A' or c=='E' or c=='I' or c=='O' or c=='U':\n",
        "    print(\"\\nIt is a Vowel\")\n",
        "else:\n",
        "    print(\"\\nIt is a Consonant\")"
      ],
      "metadata": {
        "id": "cBPy2QN5qawv"
      },
      "execution_count": null,
      "outputs": []
    },
    {
      "cell_type": "markdown",
      "source": [
        "## Program to check leap year"
      ],
      "metadata": {
        "id": "xWyNWqflqt6T"
      }
    },
    {
      "cell_type": "code",
      "source": [
        "y = int(input(\"Enter the Year: \"))\n",
        "\n",
        "if y%4==0 and y%100!=0:\n",
        "    print(\"\\nIt is a Leap Year\")\n",
        "elif y%400==0:\n",
        "    print(\"\\nIt is a Leap Year\")\n",
        "else:\n",
        "    print(\"\\nIt is not a Leap Year\")"
      ],
      "metadata": {
        "colab": {
          "base_uri": "https://localhost:8080/"
        },
        "id": "08_q45cmqwj_",
        "outputId": "bd7494cd-aeae-4f74-b66d-a5ea231d117a"
      },
      "execution_count": null,
      "outputs": [
        {
          "output_type": "stream",
          "name": "stdout",
          "text": [
            "Enter the Year: 1980\n",
            "\n",
            "It is a Leap Year\n"
          ]
        }
      ]
    },
    {
      "cell_type": "markdown",
      "source": [
        "## Programs with iteratives"
      ],
      "metadata": {
        "id": "vz2ZLvryun46"
      }
    },
    {
      "cell_type": "markdown",
      "source": [
        "## Program to check whether a number is a perfect number or not\n",
        "\n",
        "A number $n$ is called a perfect number if sum of all its divisors gives $n$."
      ],
      "metadata": {
        "id": "wIpKRZf8rSFh"
      }
    },
    {
      "cell_type": "code",
      "source": [
        "num = int(input(\"Enter the Number:\"))\n",
        "sum = 0\n",
        "for i in range(1, num):\n",
        "  if num%i==0:\n",
        "    sum = sum+i\n",
        "if num==sum:\n",
        "  print(\"It is a Perfect Number\")\n",
        "else:\n",
        "  print(\"It is not a Perfect Number\")"
      ],
      "metadata": {
        "colab": {
          "base_uri": "https://localhost:8080/"
        },
        "id": "0iMMskGnrg67",
        "outputId": "63ff8e32-eb97-4829-acc9-291370d73222"
      },
      "execution_count": null,
      "outputs": [
        {
          "output_type": "stream",
          "name": "stdout",
          "text": [
            "Enter the Number:6\n",
            "It is a Perfect Number\n"
          ]
        }
      ]
    },
    {
      "cell_type": "code",
      "source": [
        "## Program to list all perfect number below a limit\n",
        "num = int(input(\"Enter the limit:\"))\n",
        "print(\"Perfect numbers are:\")\n",
        "print(\"***\"*10)\n",
        "pn=[]\n",
        "for n in range(1,num):\n",
        "  sum = 0\n",
        "  for i in range(1, n):\n",
        "    if n%i==0:\n",
        "      sum = sum+i\n",
        "  if n==sum:\n",
        "    pn.append(n)\n",
        "print(pn)\n"
      ],
      "metadata": {
        "colab": {
          "base_uri": "https://localhost:8080/"
        },
        "id": "S5VM67CIrvS8",
        "outputId": "3ca7b591-6fc1-46f0-fa36-46a0fe613351"
      },
      "execution_count": null,
      "outputs": [
        {
          "output_type": "stream",
          "name": "stdout",
          "text": [
            "Enter the limit:500\n",
            "Perfect numbers are:\n",
            "******************************\n",
            "[6, 28, 496]\n"
          ]
        }
      ]
    },
    {
      "cell_type": "markdown",
      "source": [
        "## Program to test whether reversal of a number is same as itself"
      ],
      "metadata": {
        "id": "azoRFThntacI"
      }
    },
    {
      "cell_type": "code",
      "source": [
        "num = int(input(\"Enter the Number: \"))\n",
        "rev = 0\n",
        "orig = num\n",
        "while num>0:\n",
        "    rem = num%10\n",
        "    rev = rem + (rev*10)\n",
        "    num = num//10\n",
        "\n",
        "if orig==rev:\n",
        "    print(\"\\nThe Number is Equal to Its Reverse\")\n",
        "else:\n",
        "    print(\"\\nThe Number is not Equal to Its Reverse\")"
      ],
      "metadata": {
        "colab": {
          "base_uri": "https://localhost:8080/"
        },
        "id": "FaadzWp8tgfb",
        "outputId": "270ffb79-8604-4800-c848-8f6ae0841510"
      },
      "execution_count": null,
      "outputs": [
        {
          "output_type": "stream",
          "name": "stdout",
          "text": [
            "Enter the Number: 151\n",
            "\n",
            "The Number is Equal to Its Reverse\n"
          ]
        }
      ]
    },
    {
      "cell_type": "markdown",
      "source": [
        "## program to count the number of digits in a number"
      ],
      "metadata": {
        "id": "E0ygCvykuNkH"
      }
    },
    {
      "cell_type": "code",
      "source": [
        "num = int(input(\"Enter the Number: \"))\n",
        "tot = 0\n",
        "\n",
        "while num:\n",
        "  num = num//10\n",
        "  tot = tot+1\n",
        "\n",
        "print(\"\\nTotal Digit: \")\n",
        "print(tot)"
      ],
      "metadata": {
        "colab": {
          "base_uri": "https://localhost:8080/"
        },
        "id": "bKiuShhFr1HD",
        "outputId": "89c87bd2-5b3a-4788-a0a4-0a0a5d258cb5"
      },
      "execution_count": null,
      "outputs": [
        {
          "output_type": "stream",
          "name": "stdout",
          "text": [
            "Enter the Number: 12345\n",
            "\n",
            "Total Digit: \n",
            "5\n"
          ]
        }
      ]
    },
    {
      "cell_type": "markdown",
      "source": [
        "## Program to find sum of digits in a number"
      ],
      "metadata": {
        "id": "LCpDPbkxuv0K"
      }
    },
    {
      "cell_type": "code",
      "source": [
        "num = int(input(\"Enter a Number\"))\n",
        "sum = 0\n",
        "while num>0:\n",
        "    rem = num%10\n",
        "    sum = sum+rem\n",
        "    num = num//10\n",
        "print(\"\\nSum of Digits of Given Number: \", sum)"
      ],
      "metadata": {
        "colab": {
          "base_uri": "https://localhost:8080/"
        },
        "id": "4Uy1GdK4u0Ik",
        "outputId": "f083d3e5-3daa-420c-9789-81d009ec29d7"
      },
      "execution_count": null,
      "outputs": [
        {
          "output_type": "stream",
          "name": "stdout",
          "text": [
            "Enter a Number7589\n",
            "\n",
            "Sum of Digits of Given Number:  29\n"
          ]
        }
      ]
    },
    {
      "cell_type": "markdown",
      "source": [
        "## Program to find the sum of first and last digit of a number"
      ],
      "metadata": {
        "id": "u0mGKD8zvTE2"
      }
    },
    {
      "cell_type": "code",
      "source": [
        "num = int(input(\"Enter a Number: \"))\n",
        "\n",
        "count = 0\n",
        "while num!=0:\n",
        "    if count==0:\n",
        "        last = num%10\n",
        "        count = count+1\n",
        "    rem = num%10\n",
        "    num = int(num/10)\n",
        "\n",
        "sum = rem + last\n",
        "print(\"\\nSum of first and last digit =\", sum)"
      ],
      "metadata": {
        "id": "CSriuS_ivY6A"
      },
      "execution_count": null,
      "outputs": []
    },
    {
      "cell_type": "markdown",
      "source": [
        "## Program to print first and last digit of a number"
      ],
      "metadata": {
        "id": "smVhW0qbvOO0"
      }
    },
    {
      "cell_type": "code",
      "source": [
        "num = int(input(\"Enter a Number: \"))\n",
        "org=num\n",
        "count = 0\n",
        "while num!=0:\n",
        "    if count==0:\n",
        "        last = num%10\n",
        "        count = count+1\n",
        "    rem = num%10\n",
        "    num = num//10\n",
        "FL=[rem,last]\n",
        "print(\"\\nThe first and last digit of \", org ,\" are: \", FL)"
      ],
      "metadata": {
        "colab": {
          "base_uri": "https://localhost:8080/"
        },
        "id": "1_Z5qGQUvgou",
        "outputId": "e8dc0673-cac2-4aac-d6a9-35d197aa410f"
      },
      "execution_count": null,
      "outputs": [
        {
          "output_type": "stream",
          "name": "stdout",
          "text": [
            "Enter a Number: 786\n",
            "\n",
            "The first and last digit of  786  are:  [7, 6]\n"
          ]
        }
      ]
    },
    {
      "cell_type": "markdown",
      "source": [
        "## Python program to display even and odd members in a tuple"
      ],
      "metadata": {
        "id": "R-_QxAxvzqHJ"
      }
    },
    {
      "cell_type": "code",
      "source": [
        "\"\"\"\n",
        "Python Program:\n",
        " Using slice [] operator to iterate over a specific parts of a tuple to print odd and even members\n",
        "\"\"\"\n",
        "even=[];odd=[]\n",
        "tuple_created = (\"p\", \"r\", \"o\", \"g\", \"r\", \"a\", \"m\", \"i\", \"z\")\n",
        "for char in tuple_created[ :  : 2]:\n",
        "   even.append(char)\n",
        "for char in tuple_created[1 :  : 2]:\n",
        "   odd.append(char)\n",
        "print(\"Even members: \",even,\"\\nOdd members: \",odd)\n"
      ],
      "metadata": {
        "colab": {
          "base_uri": "https://localhost:8080/"
        },
        "id": "vuDNoBYXzweI",
        "outputId": "7fe481bc-89db-4c3c-9b41-f36b5d264546"
      },
      "execution_count": null,
      "outputs": [
        {
          "output_type": "stream",
          "name": "stdout",
          "text": [
            "Even members:  ['p', 'o', 'r', 'm', 'z'] \n",
            "Odd members:  ['r', 'g', 'a', 'i']\n"
          ]
        }
      ]
    },
    {
      "cell_type": "markdown",
      "source": [
        "## Program to create  a book shop stock register using python dictionary"
      ],
      "metadata": {
        "id": "Fdk3KUDi2uIB"
      }
    },
    {
      "cell_type": "code",
      "source": [
        "n = eval(input('Num books: '))\n",
        "books = {}\n",
        "for i in range(n):\n",
        "    titlez = input(\"Enter Title: \")\n",
        "    ncopy = eval(input(\"Num of copies: \"))\n",
        "    books[titlez] = ncopy\n",
        "\n",
        "prob = input('Sell a book; enter YES or NO: ')\n",
        "if prob == 'YES' or 'yes':\n",
        "    choice = input('Enter book title: ')\n",
        "    if choice in books:\n",
        "        init_num = books[choice]\n",
        "        init_num -= 1\n",
        "        books[choice] = init_num\n",
        "        print(books)"
      ],
      "metadata": {
        "colab": {
          "base_uri": "https://localhost:8080/"
        },
        "id": "raSpV8kR284D",
        "outputId": "d108c41e-dfb7-42a1-ec92-564e79aaac8b"
      },
      "execution_count": 10,
      "outputs": [
        {
          "name": "stdout",
          "output_type": "stream",
          "text": [
            "Num books: 2\n",
            "Enter Title: Linaer Algebra\n",
            "Num of copies: 2\n",
            "Enter Title: calculus\n",
            "Num of copies: 2\n",
            "Sell a book; enter YES or NO: NO\n",
            "Enter book title: Differential equation\n"
          ]
        }
      ]
    },
    {
      "cell_type": "markdown",
      "source": [
        ">**To remove a book from the stock**"
      ],
      "metadata": {
        "id": "Va8mV5v43jqF"
      }
    },
    {
      "cell_type": "code",
      "source": [
        "to_rem = input('Want to remove a book from the stock? YES or NO ')\n",
        "if to_rem == 'YES' or 'yes':\n",
        "    choice = input('Enter book title: ')\n",
        "    if choice in books:\n",
        "        books.pop(choice)\n",
        "        print(books)"
      ],
      "metadata": {
        "id": "hJ7pwxJH3rFS",
        "colab": {
          "base_uri": "https://localhost:8080/"
        },
        "outputId": "121d5599-767b-472d-b730-eef20fd87bb5"
      },
      "execution_count": null,
      "outputs": [
        {
          "output_type": "stream",
          "name": "stdout",
          "text": [
            "Want to remove a book from the stock? YES or NO yes\n",
            "Enter book title: 5\n",
            "{'Calculus': 4, 'Linear Algebra': 5, 'Thomas calculus': 3}\n"
          ]
        }
      ]
    },
    {
      "cell_type": "markdown",
      "source": [
        ">**To add a book to the stock**"
      ],
      "metadata": {
        "id": "NjTb4dV94hOp"
      }
    },
    {
      "cell_type": "code",
      "source": [
        "to_add = input('Want to add a book to the stock? YES or NO ')\n",
        "if to_add == 'YES' or 'yes':\n",
        "    choice = input('Enter book title: ')\n",
        "    nc=eval(input('Number of copies:'))\n",
        "    books[choice]=nc\n",
        "print(books)"
      ],
      "metadata": {
        "colab": {
          "base_uri": "https://localhost:8080/"
        },
        "id": "CRKVHdhx4qbW",
        "outputId": "df1587fd-5179-4e90-a120-307f172d4626"
      },
      "execution_count": null,
      "outputs": [
        {
          "output_type": "stream",
          "name": "stdout",
          "text": [
            "Want to add a book to the stock? YES or NO yes\n",
            "Enter book title: Thomas calculus\n",
            "Number of copies:3\n",
            "{'Calculus': 4, 'Linear Algebra': 5, '5': 2, 'Thomas calculus': 3}\n"
          ]
        }
      ]
    },
    {
      "cell_type": "markdown",
      "source": [
        "## Program to check validity of an email ID by verifying its structure"
      ],
      "metadata": {
        "id": "-3p4ILRKdYUz"
      }
    },
    {
      "cell_type": "code",
      "source": [
        "import re\n",
        "\n",
        "def verify(s):\n",
        "   pat = \"^[a-zA-Z0-9-._]+@[a-zA-Z0-9.]+\\.[a-z]{2,3}$\"\n",
        "   if re.match(pat,s):\n",
        "      return True\n",
        "   return False\n"
      ],
      "metadata": {
        "id": "c2ugMruLdhWo"
      },
      "execution_count": 12,
      "outputs": []
    },
    {
      "cell_type": "code",
      "source": [
        "\n",
        "s = \"siju.swamy@gihub.ac.in\"\n",
        "print(verify(s))"
      ],
      "metadata": {
        "colab": {
          "base_uri": "https://localhost:8080/"
        },
        "id": "-2NvtttcdsLK",
        "outputId": "0f75b88d-2bb2-45dc-951b-1bf836cc1de7"
      },
      "execution_count": 13,
      "outputs": [
        {
          "output_type": "stream",
          "name": "stdout",
          "text": [
            "True\n"
          ]
        }
      ]
    },
    {
      "cell_type": "markdown",
      "source": [
        "## Factorial"
      ],
      "metadata": {
        "id": "cbImEuNxSbT-"
      }
    },
    {
      "cell_type": "code",
      "source": [
        "# Python program to find the factorial of a number provided by the user.\n",
        "\n",
        "# change the value for a different result\n",
        "num = 7\n",
        "\n",
        "# To take input from the user\n",
        "#num = int(input(\"Enter a number: \"))\n",
        "\n",
        "factorial = 1\n",
        "\n",
        "# check if the number is negative, positive or zero\n",
        "if num < 0:\n",
        "   print(\"Sorry, factorial does not exist for negative numbers\")\n",
        "elif num == 0:\n",
        "   print(\"The factorial of 0 is 1\")\n",
        "else:\n",
        "   for i in range(1,num + 1):\n",
        "       factorial = factorial*i\n",
        "   print(\"The factorial of\",num,\"is\",factorial)"
      ],
      "metadata": {
        "colab": {
          "base_uri": "https://localhost:8080/"
        },
        "id": "1dJehoOMSdNu",
        "outputId": "f7a904ca-465f-4a75-da2b-b6bb24102c14"
      },
      "execution_count": null,
      "outputs": [
        {
          "output_type": "stream",
          "name": "stdout",
          "text": [
            "The factorial of 7 is 5040\n"
          ]
        }
      ]
    },
    {
      "cell_type": "markdown",
      "source": [
        "## Factorial with recursion"
      ],
      "metadata": {
        "id": "JDmlGF7NSpV2"
      }
    },
    {
      "cell_type": "code",
      "source": [
        "# Python program to find the factorial of a number provided by the user\n",
        "# using recursion\n",
        "\n",
        "def factorial(x):\n",
        "    \"\"\"This is a recursive function\n",
        "    to find the factorial of an integer\"\"\"\n",
        "\n",
        "    if x == 1:\n",
        "        return 1\n",
        "    else:\n",
        "        # recursive call to the function\n",
        "        return (x * factorial(x-1))\n",
        "\n",
        "\n",
        "# change the value for a different result\n",
        "num = 7\n",
        "\n",
        "# to take input from the user\n",
        "# num = int(input(\"Enter a number: \"))\n",
        "\n",
        "# call the factorial function\n",
        "result = factorial(num)\n",
        "print(\"The factorial of\", num, \"is\", result)"
      ],
      "metadata": {
        "colab": {
          "base_uri": "https://localhost:8080/"
        },
        "id": "HqPTf1N7SidW",
        "outputId": "fa00490d-99c9-43c3-fa05-f5afe6f218fa"
      },
      "execution_count": null,
      "outputs": [
        {
          "output_type": "stream",
          "name": "stdout",
          "text": [
            "The factorial of 7 is 5040\n"
          ]
        }
      ]
    },
    {
      "cell_type": "markdown",
      "source": [
        "## Check prime"
      ],
      "metadata": {
        "id": "qjSAwtSeS09e"
      }
    },
    {
      "cell_type": "code",
      "source": [
        "# Program to check if a number is prime or not\n",
        "\n",
        "num = 29\n",
        "\n",
        "# To take input from the user\n",
        "#num = int(input(\"Enter a number: \"))\n",
        "\n",
        "# define a flag variable\n",
        "flag = False\n",
        "\n",
        "if num == 1:\n",
        "    print(num, \"is not a prime number\")\n",
        "elif num > 1:\n",
        "    # check for factors\n",
        "    for i in range(2, num):\n",
        "        if (num % i) == 0:\n",
        "            # if factor is found, set flag to True\n",
        "            flag = True\n",
        "            # break out of loop\n",
        "            break\n",
        "\n",
        "    # check if flag is True\n",
        "    if flag:\n",
        "        print(num, \"is not a prime number\")\n",
        "    else:\n",
        "        print(num, \"is a prime number\")"
      ],
      "metadata": {
        "colab": {
          "base_uri": "https://localhost:8080/"
        },
        "id": "aJH993DVS3zu",
        "outputId": "43f395c0-26bc-44f9-f4a6-0dccaf885746"
      },
      "execution_count": null,
      "outputs": [
        {
          "output_type": "stream",
          "name": "stdout",
          "text": [
            "29 is a prime number\n"
          ]
        }
      ]
    },
    {
      "cell_type": "markdown",
      "source": [
        "## prime check- method 2"
      ],
      "metadata": {
        "id": "g0x-F1X0S_mm"
      }
    },
    {
      "cell_type": "code",
      "source": [
        "num = 407\n",
        "\n",
        "# To take input from the user\n",
        "#num = int(input(\"Enter a number: \"))\n",
        "\n",
        "if num == 1:\n",
        "    print(num, \"is not a prime number\")\n",
        "elif num > 1:\n",
        "   # check for factors\n",
        "   for i in range(2,num):\n",
        "       if (num % i) == 0:\n",
        "           print(num,\"is not a prime number\")\n",
        "           print(i,\"times\",num//i,\"is\",num)\n",
        "           break\n",
        "   else:\n",
        "       print(num,\"is a prime number\")\n",
        "\n",
        "# if input number is less than\n",
        "# or equal to 1, it is not prime\n",
        "else:\n",
        "   print(num,\"is not a prime number\")"
      ],
      "metadata": {
        "colab": {
          "base_uri": "https://localhost:8080/"
        },
        "id": "pcDcKDCGTDvm",
        "outputId": "fcd77a81-2227-4e17-e0cd-d0d4fd5e8e64"
      },
      "execution_count": null,
      "outputs": [
        {
          "output_type": "stream",
          "name": "stdout",
          "text": [
            "407 is not a prime number\n",
            "11 times 37 is 407\n"
          ]
        }
      ]
    },
    {
      "cell_type": "markdown",
      "source": [
        "## Display prime numbers in a range"
      ],
      "metadata": {
        "id": "AaE8XbGMTJwG"
      }
    },
    {
      "cell_type": "code",
      "source": [
        "# Python program to display all the prime numbers within an interval\n",
        "\n",
        "lower = 900\n",
        "upper = 1000\n",
        "\n",
        "print(\"Prime numbers between\", lower, \"and\", upper, \"are:\")\n",
        "\n",
        "for num in range(lower, upper + 1):\n",
        "   # all prime numbers are greater than 1\n",
        "   if num > 1:\n",
        "       for i in range(2, num):\n",
        "           if (num % i) == 0:\n",
        "               break\n",
        "       else:\n",
        "           print(num)"
      ],
      "metadata": {
        "colab": {
          "base_uri": "https://localhost:8080/"
        },
        "id": "ofYjMnRJTNyG",
        "outputId": "4cc472da-92f5-4b69-8885-ef62c580f493"
      },
      "execution_count": null,
      "outputs": [
        {
          "output_type": "stream",
          "name": "stdout",
          "text": [
            "Prime numbers between 900 and 1000 are:\n",
            "907\n",
            "911\n",
            "919\n",
            "929\n",
            "937\n",
            "941\n",
            "947\n",
            "953\n",
            "967\n",
            "971\n",
            "977\n",
            "983\n",
            "991\n",
            "997\n"
          ]
        }
      ]
    },
    {
      "cell_type": "markdown",
      "source": [
        "## check amstrong number"
      ],
      "metadata": {
        "id": "ECgPlR3yTVhN"
      }
    },
    {
      "cell_type": "code",
      "source": [
        "# Program to check Armstrong numbers in a certain interval\n",
        "\n",
        "lower = 100\n",
        "upper = 2000\n",
        "\n",
        "for num in range(lower, upper + 1):\n",
        "\n",
        "   # order of number\n",
        "   order = len(str(num))\n",
        "\n",
        "   # initialize sum\n",
        "   sum = 0\n",
        "\n",
        "   temp = num\n",
        "   while temp > 0:\n",
        "       digit = temp % 10\n",
        "       sum += digit ** order\n",
        "       temp //= 10\n",
        "\n",
        "   if num == sum:\n",
        "       print(num)"
      ],
      "metadata": {
        "colab": {
          "base_uri": "https://localhost:8080/"
        },
        "id": "Osy2PPiGTUt9",
        "outputId": "156142b7-c37a-4e5c-e340-6905f08495b5"
      },
      "execution_count": null,
      "outputs": [
        {
          "output_type": "stream",
          "name": "stdout",
          "text": [
            "153\n",
            "370\n",
            "371\n",
            "407\n",
            "1634\n"
          ]
        }
      ]
    },
    {
      "cell_type": "markdown",
      "source": [
        "## check for anagrams"
      ],
      "metadata": {
        "id": "hkXtBisdTqA-"
      }
    },
    {
      "cell_type": "code",
      "source": [
        "str1 = \"Race\"\n",
        "str2 = \"Care\"\n",
        "\n",
        "# convert both the strings into lowercase\n",
        "str1 = str1.lower()\n",
        "str2 = str2.lower()\n",
        "\n",
        "# check if length is same\n",
        "if(len(str1) == len(str2)):\n",
        "\n",
        "    # sort the strings\n",
        "    sorted_str1 = sorted(str1)\n",
        "    sorted_str2 = sorted(str2)\n",
        "\n",
        "    # if sorted char arrays are same\n",
        "    if(sorted_str1 == sorted_str2):\n",
        "        print(str1 + \" and \" + str2 + \" are anagram.\")\n",
        "    else:\n",
        "        print(str1 + \" and \" + str2 + \" are not anagram.\")\n",
        "\n",
        "else:\n",
        "    print(str1 + \" and \" + str2 + \" are not anagram.\")"
      ],
      "metadata": {
        "colab": {
          "base_uri": "https://localhost:8080/"
        },
        "id": "Y06GUt-KTue-",
        "outputId": "4b35699b-7a68-44d4-cdfa-e22b3b3c2c61"
      },
      "execution_count": null,
      "outputs": [
        {
          "output_type": "stream",
          "name": "stdout",
          "text": [
            "race and care are anagram.\n"
          ]
        }
      ]
    },
    {
      "cell_type": "markdown",
      "source": [
        "## capitalize first word"
      ],
      "metadata": {
        "id": "A_4BJ_OrT8O-"
      }
    },
    {
      "cell_type": "code",
      "source": [
        "my_string = \"programiz is List\"\n",
        "\n",
        "print(my_string[0].upper() + my_string[1:])"
      ],
      "metadata": {
        "colab": {
          "base_uri": "https://localhost:8080/"
        },
        "id": "TzDbDL2ST--W",
        "outputId": "bb2ecdb7-ec85-4b1c-d4e1-f43fe6defcbe"
      },
      "execution_count": null,
      "outputs": [
        {
          "output_type": "stream",
          "name": "stdout",
          "text": [
            "Programiz is Lit\n"
          ]
        }
      ]
    },
    {
      "cell_type": "markdown",
      "source": [
        "## alphabet counting-1 with loop"
      ],
      "metadata": {
        "id": "r-fAFrn9UJ0G"
      }
    },
    {
      "cell_type": "code",
      "source": [
        "count = 0\n",
        "\n",
        "my_string = \"Programiz\"\n",
        "my_char = \"r\"\n",
        "\n",
        "for i in my_string:\n",
        "    if i == my_char:\n",
        "        count += 1\n",
        "\n",
        "print(count)"
      ],
      "metadata": {
        "colab": {
          "base_uri": "https://localhost:8080/"
        },
        "id": "6mVeWfvqUMtW",
        "outputId": "c5f23934-c89b-48a1-efc7-7eef3b6a438a"
      },
      "execution_count": null,
      "outputs": [
        {
          "output_type": "stream",
          "name": "stdout",
          "text": [
            "2\n"
          ]
        }
      ]
    },
    {
      "cell_type": "markdown",
      "source": [
        "## alphabet count with `.count()` function"
      ],
      "metadata": {
        "id": "DDZysEVUUTzO"
      }
    },
    {
      "cell_type": "code",
      "source": [
        "my_string = \"Programiz\"\n",
        "my_char = \"r\"\n",
        "\n",
        "print(my_string.count(my_char))"
      ],
      "metadata": {
        "colab": {
          "base_uri": "https://localhost:8080/"
        },
        "id": "oT7hqG6vUZA2",
        "outputId": "14cc9011-57d5-40d7-b207-08c17b881c31"
      },
      "execution_count": null,
      "outputs": [
        {
          "output_type": "stream",
          "name": "stdout",
          "text": [
            "2\n"
          ]
        }
      ]
    },
    {
      "cell_type": "markdown",
      "source": [
        "## counting occurance in a list"
      ],
      "metadata": {
        "id": "-9WftgBIUhoe"
      }
    },
    {
      "cell_type": "code",
      "source": [
        "freq = ['a', 1, 'a', 4, 3, 2, 'a'].count('a')\n",
        "print(freq)"
      ],
      "metadata": {
        "colab": {
          "base_uri": "https://localhost:8080/"
        },
        "id": "jeOt_mjAUkcH",
        "outputId": "0995cf5d-65f3-46c8-f3e0-110b45cf3637"
      },
      "execution_count": null,
      "outputs": [
        {
          "output_type": "stream",
          "name": "stdout",
          "text": [
            "3\n"
          ]
        }
      ]
    },
    {
      "cell_type": "markdown",
      "source": [
        "## counting number of vowels"
      ],
      "metadata": {
        "id": "q_JEDbybUp4n"
      }
    },
    {
      "cell_type": "code",
      "source": [
        "# Program to count the number of each vowels\n",
        "\n",
        "# string of vowels\n",
        "vowels = 'aeiou'\n",
        "\n",
        "ip_str = 'Hello, have you tried our tutorial section yet?'\n",
        "\n",
        "# make it suitable for caseless comparisions\n",
        "ip_str = ip_str.casefold()\n",
        "\n",
        "# make a dictionary with each vowel a key and value 0\n",
        "count = {}.fromkeys(vowels,0)\n",
        "\n",
        "# count the vowels\n",
        "for char in ip_str:\n",
        "   if char in count:\n",
        "       count[char] += 1\n",
        "\n",
        "print(count)"
      ],
      "metadata": {
        "colab": {
          "base_uri": "https://localhost:8080/"
        },
        "id": "6p6ar8-pUsqv",
        "outputId": "cfbdd111-9c51-40af-8ffb-1f5ba3a365d4"
      },
      "execution_count": null,
      "outputs": [
        {
          "output_type": "stream",
          "name": "stdout",
          "text": [
            "{'a': 2, 'e': 5, 'i': 3, 'o': 5, 'u': 3}\n"
          ]
        }
      ]
    },
    {
      "cell_type": "markdown",
      "source": [
        "## program to count, lines, words and special characters stored in a file"
      ],
      "metadata": {
        "id": "wt897tqWCbfP"
      }
    },
    {
      "cell_type": "code",
      "source": [
        "with open('File1.txt', 'w') as file2:\n",
        "\n",
        "    # write contents to the test2.txt file\n",
        "    file2.write('Programming is Fun in 100 days.\\n')\n",
        "    file2.write('Programiz for beginners')\n",
        "    file2.close()"
      ],
      "metadata": {
        "id": "UERg9y3EMnKl"
      },
      "execution_count": null,
      "outputs": []
    },
    {
      "cell_type": "code",
      "source": [
        "# Python implementation to compute\n",
        "# number of characters, words, spaces\n",
        "# and lines in a file\n",
        "\n",
        "# Function to count number\n",
        "# of characters, words, spaces\n",
        "# and lines in a file\n",
        "def counter(fname):\n",
        "\n",
        "\t# variable to store total word count\n",
        "\tnum_words = 0\n",
        "\n",
        "\t# variable to store total line count\n",
        "\tnum_lines = 0\n",
        "\n",
        "\t# variable to store total character count\n",
        "\tnum_charc = 0\n",
        "\n",
        "\t# variable to store total space count\n",
        "\tnum_spaces = 0\n",
        "\n",
        "\t# opening file using with() method\n",
        "\t# so that file gets closed\n",
        "\t# after completion of work\n",
        "\twith open(fname, 'r') as f:\n",
        "\n",
        "\t\t# loop to iterate file\n",
        "\t\t# line by line\n",
        "\t\tfor line in f:\n",
        "\n",
        "\t\t\t# incrementing value of\n",
        "\t\t\t# num_lines with each\n",
        "\t\t\t# iteration of loop to\n",
        "\t\t\t# store total line count\n",
        "\t\t\tnum_lines += 1\n",
        "\n",
        "\t\t\t# declaring a variable word\n",
        "\t\t\t# and assigning its value as Y\n",
        "\t\t\t# because every file is\n",
        "\t\t\t# supposed to start with\n",
        "\t\t\t# a word or a character\n",
        "\t\t\tword = 'Y'\n",
        "\n",
        "\t\t\t# loop to iterate every\n",
        "\t\t\t# line letter by letter\n",
        "\t\t\tfor letter in line:\n",
        "\n",
        "\t\t\t\t# condition to check\n",
        "\t\t\t\t# that the encountered character\n",
        "\t\t\t\t# is not white space and a word\n",
        "\t\t\t\tif (letter != ' ' and word == 'Y'):\n",
        "\n",
        "\t\t\t\t\t# incrementing the word\n",
        "\t\t\t\t\t# count by 1\n",
        "\t\t\t\t\tnum_words += 1\n",
        "\n",
        "\t\t\t\t\t# assigning value N to\n",
        "\t\t\t\t\t# variable word because until\n",
        "\t\t\t\t\t# space will not encounter\n",
        "\t\t\t\t\t# a word can not be completed\n",
        "\t\t\t\t\tword = 'N'\n",
        "\n",
        "\t\t\t\t# condition to check\n",
        "\t\t\t\t# that the encountered character\n",
        "\t\t\t\t# is a white space\n",
        "\t\t\t\telif (letter == ' '):\n",
        "\n",
        "\t\t\t\t\t# incrementing the space\n",
        "\t\t\t\t\t# count by 1\n",
        "\t\t\t\t\tnum_spaces += 1\n",
        "\n",
        "\t\t\t\t\t# assigning value Y to\n",
        "\t\t\t\t\t# variable word because after\n",
        "\t\t\t\t\t# white space a word\n",
        "\t\t\t\t\t# is supposed to occur\n",
        "\t\t\t\t\tword = 'Y'\n",
        "\n",
        "\t\t\t\t# loop to iterate every\n",
        "\t\t\t\t# letter character by\n",
        "\t\t\t\t# character\n",
        "\t\t\t\tfor i in letter:\n",
        "\n",
        "\t\t\t\t\t# condition to check\n",
        "\t\t\t\t\t# that the encountered character\n",
        "\t\t\t\t\t# is not white space and not\n",
        "\t\t\t\t\t# a newline character\n",
        "\t\t\t\t\tif(i !=\" \" and i !=\"\\n\"):\n",
        "\n",
        "\t\t\t\t\t\t# incrementing character\n",
        "\t\t\t\t\t\t# count by 1\n",
        "\t\t\t\t\t\tnum_charc += 1\n",
        "\n",
        "\t# printing total word count\n",
        "\tprint(\"Number of words in text file: \",\n",
        "\t\tnum_words)\n",
        "\n",
        "\t# printing total line count\n",
        "\tprint(\"Number of lines in text file: \",\n",
        "\t\tnum_lines)\n",
        "\n",
        "\t# printing total character count\n",
        "\tprint('Number of characters in text file: ',\n",
        "\t\tnum_charc)\n",
        "\n",
        "\t# printing total space count\n",
        "\tprint('Number of spaces in text file: ',\n",
        "\t\tnum_spaces)\n",
        "\n",
        "# Driver Code:\n",
        "if __name__ == '__main__':\n",
        "\tfname = 'File1.txt'\n",
        "\ttry:\n",
        "\t\tcounter(fname)\n",
        "\texcept:\n",
        "\t\tprint('File not found')\n"
      ],
      "metadata": {
        "colab": {
          "base_uri": "https://localhost:8080/"
        },
        "id": "73X_rqTUCl0V",
        "outputId": "6872b068-7ab4-4f07-b0a1-5d53b6426f0f"
      },
      "execution_count": null,
      "outputs": [
        {
          "output_type": "stream",
          "name": "stdout",
          "text": [
            "Number of words in text file:  9\n",
            "Number of lines in text file:  2\n",
            "Number of characters in text file:  47\n",
            "Number of spaces in text file:  7\n"
          ]
        }
      ]
    },
    {
      "cell_type": "markdown",
      "source": [
        "## Plot a graph $y=f(x)$"
      ],
      "metadata": {
        "id": "EfaV1mdrNmJX"
      }
    },
    {
      "cell_type": "code",
      "source": [
        "import matplotlib.pyplot as plt\n",
        "%matplotlib inline"
      ],
      "metadata": {
        "id": "WOI7MnaCN2Ml"
      },
      "execution_count": null,
      "outputs": []
    },
    {
      "cell_type": "code",
      "source": [
        "x_cords = range(-50,50)\n",
        "y_cords = [x*x for x in x_cords]\n",
        "\n",
        "plt.plot(x_cords, y_cords)\n",
        "plt.title(r\"power of a variable $y=x^2$\")\n",
        "plt.show()"
      ],
      "metadata": {
        "colab": {
          "base_uri": "https://localhost:8080/",
          "height": 285
        },
        "id": "UGswhkd7Nq4a",
        "outputId": "8aeecd6e-dc64-427a-a03e-a000b88d629e"
      },
      "execution_count": null,
      "outputs": [
        {
          "output_type": "display_data",
          "data": {
            "text/plain": [
              "<Figure size 432x288 with 1 Axes>"
            ],
            "image/png": "[encoded data removed]"
          },
          "metadata": {
            "needs_background": "light"
          }
        }
      ]
    },
    {
      "cell_type": "markdown",
      "source": [
        "## create a bar chart showing area of countries\n"
      ],
      "metadata": {
        "id": "N40chQUcPj8d"
      }
    },
    {
      "cell_type": "code",
      "source": [
        "import pandas as pd\n",
        "from matplotlib.pyplot import pie, axis, show\n",
        "\n",
        "df = pd.DataFrame([[1,'Africa',11.7],   [2, 'Asia', 1.9],    [3, 'Europe', 9.4], [4, 'North America', 3.3],[5, 'Occania', 6.9],[6, 'South America', 7.9],[7, 'Soviet Union', 7.9]], columns=['ID',  'country',  'Area'])"
      ],
      "metadata": {
        "id": "-ypaWChwPoRM"
      },
      "execution_count": null,
      "outputs": []
    },
    {
      "cell_type": "code",
      "source": [
        "df.info()"
      ],
      "metadata": {
        "colab": {
          "base_uri": "https://localhost:8080/"
        },
        "id": "a140E2rTeI4N",
        "outputId": "bcc130a1-c482-4eba-f0b7-aeff622683de"
      },
      "execution_count": null,
      "outputs": [
        {
          "output_type": "stream",
          "name": "stdout",
          "text": [
            "<class 'pandas.core.frame.DataFrame'>\n",
            "RangeIndex: 7 entries, 0 to 6\n",
            "Data columns (total 3 columns):\n",
            " #   Column   Non-Null Count  Dtype  \n",
            "---  ------   --------------  -----  \n",
            " 0   ID       7 non-null      int64  \n",
            " 1   country  7 non-null      object \n",
            " 2   Area     7 non-null      float64\n",
            "dtypes: float64(1), int64(1), object(1)\n",
            "memory usage: 296.0+ bytes\n"
          ]
        }
      ]
    },
    {
      "cell_type": "code",
      "source": [
        "import seaborn as sns\n",
        "import matplotlib.pyplot as plt\n",
        "order = df.groupby('country').mean().sort_values('Area').index\n",
        "# read a titanic.csv file\n",
        "# country v / s area barplot\n",
        "chart=sns.barplot(x = 'country', y = 'Area', data = df,order=order)\n",
        "chart.set_xticklabels(chart.get_xticklabels(), rotation=45,horizontalalignment='right')\n",
        "# Show the plot\n",
        "plt.show()"
      ],
      "metadata": {
        "colab": {
          "base_uri": "https://localhost:8080/",
          "height": 328
        },
        "id": "rtEEqNbKQUQy",
        "outputId": "ff79952c-b164-4e79-b787-491b991bcb6e"
      },
      "execution_count": null,
      "outputs": [
        {
          "output_type": "display_data",
          "data": {
            "text/plain": [
              "<Figure size 432x288 with 1 Axes>"
            ],
            "image/png": "[encoded data removed]"
          },
          "metadata": {
            "needs_background": "light"
          }
        }
      ]
    },
    {
      "cell_type": "markdown",
      "source": [
        "## Create a histogram of the following class interval\n",
        "\n",
        "**Type-1:** Create the class interval and plot the histogram."
      ],
      "metadata": {
        "id": "VshkS69zhOXk"
      }
    },
    {
      "cell_type": "code",
      "source": [
        "\n",
        "import numpy as np\n",
        "selected_data =[10,12,21,13,23,24,32,13,24,35,32,31,34,8,6,7,5,3,4,9,14,26,40]\n",
        "bins=[0,10,20,30,40]\n",
        "df=pd.DataFrame(selected_data,index=range(23),columns=[\"data\"])\n",
        "df[\"Interval\"]=pd.cut(df[\"data\"],bins)\n",
        "table=pd.crosstab(index=df['Interval'],columns=[\"frequency\"])\n"
      ],
      "metadata": {
        "id": "BOLfR3Mderh-"
      },
      "execution_count": null,
      "outputs": []
    },
    {
      "cell_type": "code",
      "source": [
        "table"
      ],
      "metadata": {
        "colab": {
          "base_uri": "https://localhost:8080/",
          "height": 206
        },
        "id": "OMrJq_Elrlnp",
        "outputId": "e7d7917b-b802-4345-c58c-8d7eb504fdef"
      },
      "execution_count": null,
      "outputs": [
        {
          "output_type": "execute_result",
          "data": {
            "text/plain": [
              "col_0     frequency\n",
              "Interval           \n",
              "(0, 10]           8\n",
              "(10, 20]          4\n",
              "(20, 30]          5\n",
              "(30, 40]          6"
            ],
            "text/html": [
              "\n",
              "  <div id=\"df-dd90fc71-6216-4303-827f-d72de09cf414\">\n",
              "    <div class=\"colab-df-container\">\n",
              "      <div>\n",
              "<style scoped>\n",
              "    .dataframe tbody tr th:only-of-type {\n",
              "        vertical-align: middle;\n",
              "    }\n",
              "\n",
              "    .dataframe tbody tr th {\n",
              "        vertical-align: top;\n",
              "    }\n",
              "\n",
              "    .dataframe thead th {\n",
              "        text-align: right;\n",
              "    }\n",
              "</style>\n",
              "<table border=\"1\" class=\"dataframe\">\n",
              "  <thead>\n",
              "    <tr style=\"text-align: right;\">\n",
              "      <th>col_0</th>\n",
              "      <th>frequency</th>\n",
              "    </tr>\n",
              "    <tr>\n",
              "      <th>Interval</th>\n",
              "      <th></th>\n",
              "    </tr>\n",
              "  </thead>\n",
              "  <tbody>\n",
              "    <tr>\n",
              "      <th>(0, 10]</th>\n",
              "      <td>8</td>\n",
              "    </tr>\n",
              "    <tr>\n",
              "      <th>(10, 20]</th>\n",
              "      <td>4</td>\n",
              "    </tr>\n",
              "    <tr>\n",
              "      <th>(20, 30]</th>\n",
              "      <td>5</td>\n",
              "    </tr>\n",
              "    <tr>\n",
              "      <th>(30, 40]</th>\n",
              "      <td>6</td>\n",
              "    </tr>\n",
              "  </tbody>\n",
              "</table>\n",
              "</div>\n",
              "      <button class=\"colab-df-convert\" onclick=\"convertToInteractive('df-dd90fc71-6216-4303-827f-d72de09cf414')\"\n",
              "              title=\"Convert this dataframe to an interactive table.\"\n",
              "              style=\"display:none;\">\n",
              "        \n",
              "  <svg xmlns=\"http://www.w3.org/2000/svg\" height=\"24px\"viewBox=\"0 0 24 24\"\n",
              "       width=\"24px\">\n",
              "    <path d=\"M0 0h24v24H0V0z\" fill=\"none\"/>\n",
              "    <path d=\"M18.56 5.44l.94 2.06.94-2.06 2.06-.94-2.06-.94-.94-2.06-.94 2.06-2.06.94zm-11 1L8.5 8.5l.94-2.06 2.06-.94-2.06-.94L8.5 2.5l-.94 2.06-2.06.94zm10 10l.94 2.06.94-2.06 2.06-.94-2.06-.94-.94-2.06-.94 2.06-2.06.94z\"/><path d=\"M17.41 7.96l-1.37-1.37c-.4-.4-.92-.59-1.43-.59-.52 0-1.04.2-1.43.59L10.3 9.45l-7.72 7.72c-.78.78-.78 2.05 0 2.83L4 21.41c.39.39.9.59 1.41.59.51 0 1.02-.2 1.41-.59l7.78-7.78 2.81-2.81c.8-.78.8-2.07 0-2.86zM5.41 20L4 18.59l7.72-7.72 1.47 1.35L5.41 20z\"/>\n",
              "  </svg>\n",
              "      </button>\n",
              "      \n",
              "  <style>\n",
              "    .colab-df-container {\n",
              "      display:flex;\n",
              "      flex-wrap:wrap;\n",
              "      gap: 12px;\n",
              "    }\n",
              "\n",
              "    .colab-df-convert {\n",
              "      background-color: #E8F0FE;\n",
              "      border: none;\n",
              "      border-radius: 50%;\n",
              "      cursor: pointer;\n",
              "      display: none;\n",
              "      fill: #1967D2;\n",
              "      height: 32px;\n",
              "      padding: 0 0 0 0;\n",
              "      width: 32px;\n",
              "    }\n",
              "\n",
              "    .colab-df-convert:hover {\n",
              "      background-color: #E2EBFA;\n",
              "      box-shadow: 0px 1px 2px rgba(60, 64, 67, 0.3), 0px 1px 3px 1px rgba(60, 64, 67, 0.15);\n",
              "      fill: #174EA6;\n",
              "    }\n",
              "\n",
              "    [theme=dark] .colab-df-convert {\n",
              "      background-color: #3B4455;\n",
              "      fill: #D2E3FC;\n",
              "    }\n",
              "\n",
              "    [theme=dark] .colab-df-convert:hover {\n",
              "      background-color: #434B5C;\n",
              "      box-shadow: 0px 1px 3px 1px rgba(0, 0, 0, 0.15);\n",
              "      filter: drop-shadow(0px 1px 2px rgba(0, 0, 0, 0.3));\n",
              "      fill: #FFFFFF;\n",
              "    }\n",
              "  </style>\n",
              "\n",
              "      <script>\n",
              "        const buttonEl =\n",
              "          document.querySelector('#df-dd90fc71-6216-4303-827f-d72de09cf414 button.colab-df-convert');\n",
              "        buttonEl.style.display =\n",
              "          google.colab.kernel.accessAllowed ? 'block' : 'none';\n",
              "\n",
              "        async function convertToInteractive(key) {\n",
              "          const element = document.querySelector('#df-dd90fc71-6216-4303-827f-d72de09cf414');\n",
              "          const dataTable =\n",
              "            await google.colab.kernel.invokeFunction('convertToInteractive',\n",
              "                                                     [key], {});\n",
              "          if (!dataTable) return;\n",
              "\n",
              "          const docLinkHtml = 'Like what you see? Visit the ' +\n",
              "            '<a target=\"_blank\" href=https://colab.research.google.com/notebooks/data_table.ipynb>data table notebook</a>'\n",
              "            + ' to learn more about interactive tables.';\n",
              "          element.innerHTML = '';\n",
              "          dataTable['output_type'] = 'display_data';\n",
              "          await google.colab.output.renderOutput(dataTable, element);\n",
              "          const docLink = document.createElement('div');\n",
              "          docLink.innerHTML = docLinkHtml;\n",
              "          element.appendChild(docLink);\n",
              "        }\n",
              "      </script>\n",
              "    </div>\n",
              "  </div>\n",
              "  "
            ]
          },
          "metadata": {},
          "execution_count": 107
        }
      ]
    },
    {
      "cell_type": "code",
      "source": [
        "sns.histplot(data=df,x='data',bins=bins, kde = True)\n",
        "plt.show()"
      ],
      "metadata": {
        "colab": {
          "base_uri": "https://localhost:8080/",
          "height": 279
        },
        "id": "dv6tHqSPvdcc",
        "outputId": "417de8a7-2ecb-4f81-b5d6-22f43dc4012b"
      },
      "execution_count": null,
      "outputs": [
        {
          "output_type": "display_data",
          "data": {
            "text/plain": [
              "<Figure size 432x288 with 1 Axes>"
            ],
            "image/png": "[encoded data removed]"
          },
          "metadata": {
            "needs_background": "light"
          }
        }
      ]
    },
    {
      "cell_type": "code",
      "source": [
        "df"
      ],
      "metadata": {
        "id": "Z204Klnvrb64"
      },
      "execution_count": null,
      "outputs": []
    },
    {
      "cell_type": "markdown",
      "source": [
        "**Type 2:** Directly plot the histogram\n",
        "\n",
        ">Problem:\n",
        "Plot the histogram of the following data\n",
        "\\begin{array}{|l|c|c|c|c|}\\hline\n",
        "Height (in\\,\\, cm):&135-140&140-145&145-150&150-155\\\\\\hline\n",
        "No.of\\,\\, students:&4&12&16&8\\\\\\hline\n",
        "\\end{array}\n"
      ],
      "metadata": {
        "id": "aBKReB7LFAmt"
      }
    },
    {
      "cell_type": "code",
      "source": [
        "data={\"135-140\":4,\"140-145\":12,\"145-150\":16,\"150-155\":8}"
      ],
      "metadata": {
        "id": "4Uv7pLzmF_9t"
      },
      "execution_count": null,
      "outputs": []
    },
    {
      "cell_type": "code",
      "source": [
        "import matplotlib.pyplot as plt\n",
        "import numpy as np\n",
        "import seaborn as sns\n",
        "sns.barplot(x=list(data.keys()),y=list(data.values()))\n",
        "plt.show()"
      ],
      "metadata": {
        "colab": {
          "base_uri": "https://localhost:8080/",
          "height": 265
        },
        "id": "YFg9hzmrGfhV",
        "outputId": "4eedbdcb-ae49-44e3-a125-0ce68e97eb9a"
      },
      "execution_count": null,
      "outputs": [
        {
          "output_type": "display_data",
          "data": {
            "text/plain": [
              "<Figure size 432x288 with 1 Axes>"
            ],
            "image/png": "[encoded data removed]"
          },
          "metadata": {
            "needs_background": "light"
          }
        }
      ]
    },
    {
      "cell_type": "markdown",
      "source": [
        ">**Task:** Following table contains the population and murder rates ( ie., unit of murders per 100000 people per year) for different states in US. Compute the mean,median, variance and expected number of murders in US based on the data.\n",
        "$\\begin{array}{|l|l|r|r|}\\hline&        State &  Population &  Murder \\\\\\hline 1&      Alabama &     4779736 &     5.7 \\\\\\hline 2 &       Alaska &      710231 &     5.6 \\\\\\hline 3 &      Arizona &     6392017 &     4.7 \\\\\\hline 4 &    Arkansans &     2915918 &     5.6 \\\\\\hline 5 &   California &    37253956 &     4.4 \\\\\\hline 6 &     Colorado &     5029196 &     2.8 \\\\\\hline 7 &  Coenctiecut &     3574097 &     2.4 \\\\\\hline 8 &     Delaware &      897934 &     5.8 \\\\\\hline \\end{array}$"
      ],
      "metadata": {
        "id": "JFXUGIgEHZtk"
      }
    },
    {
      "cell_type": "code",
      "source": [
        "State=['Alabama', 'Alaska', 'Arizona', 'Arkansans', 'California', 'Colorado', 'Coenctiecut', 'Delaware']\n",
        "Population=[4779736,710231,6392017,2915918,37253956,5029196,3574097,897934]\n",
        "Murder=[5.7,5.6,4.7,5.6,4.4,2.8,2.4,5.8]"
      ],
      "metadata": {
        "id": "hfsHnePfQRY5"
      },
      "execution_count": null,
      "outputs": []
    },
    {
      "cell_type": "code",
      "source": [
        "import pandas as pd\n",
        "dfm=pd.DataFrame({\"State\":State,\"Population\":Population,\"Murder\":Murder})\n"
      ],
      "metadata": {
        "id": "0c6da0MkKfAb"
      },
      "execution_count": null,
      "outputs": []
    },
    {
      "cell_type": "code",
      "source": [
        "dfm['Population'].mean()"
      ],
      "metadata": {
        "colab": {
          "base_uri": "https://localhost:8080/"
        },
        "id": "ZOENMVuOK9MT",
        "outputId": "3579e8cb-6011-40a5-eff9-54d7458d139d"
      },
      "execution_count": null,
      "outputs": [
        {
          "output_type": "execute_result",
          "data": {
            "text/plain": [
              "7694135.625"
            ]
          },
          "metadata": {},
          "execution_count": 60
        }
      ]
    },
    {
      "cell_type": "code",
      "source": [
        "dfm[['Population','Murder']].var()"
      ],
      "metadata": {
        "colab": {
          "base_uri": "https://localhost:8080/"
        },
        "id": "d0LY93qKTOFs",
        "outputId": "b0b4bfd9-c9c8-4fa7-9336-72e025df9cb1"
      },
      "execution_count": null,
      "outputs": [
        {
          "output_type": "execute_result",
          "data": {
            "text/plain": [
              "Population    1.465491e+14\n",
              "Murder        1.825000e+00\n",
              "dtype: float64"
            ]
          },
          "metadata": {},
          "execution_count": 64
        }
      ]
    },
    {
      "cell_type": "code",
      "source": [
        "dfm[['Population','Murder']].median()"
      ],
      "metadata": {
        "colab": {
          "base_uri": "https://localhost:8080/"
        },
        "id": "YfnlvuijUKDu",
        "outputId": "220bb169-fb49-451f-912f-65b8901b90e1"
      },
      "execution_count": null,
      "outputs": [
        {
          "output_type": "execute_result",
          "data": {
            "text/plain": [
              "Population    4176916.50\n",
              "Murder              5.15\n",
              "dtype: float64"
            ]
          },
          "metadata": {},
          "execution_count": 65
        }
      ]
    },
    {
      "cell_type": "markdown",
      "source": [
        "### Calculating the Expected number of murders in US based on the data\n",
        "$$E(X)=\\sum\\limits_{n=0}^N x_nP(x_n)$$"
      ],
      "metadata": {
        "id": "8aghWoeTVBI7"
      }
    },
    {
      "cell_type": "code",
      "source": [
        "np.dot(dfm['Population'],(dfm['Murder']/dfm['Murder'].sum()).T)"
      ],
      "metadata": {
        "colab": {
          "base_uri": "https://localhost:8080/"
        },
        "id": "VS0IkwbFUQ5j",
        "outputId": "63ec5bc8-c3d0-4b13-a710-ef63f6bbc3fa"
      },
      "execution_count": null,
      "outputs": [
        {
          "output_type": "execute_result",
          "data": {
            "text/plain": [
              "7280497.694594595"
            ]
          },
          "metadata": {},
          "execution_count": 70
        }
      ]
    },
    {
      "cell_type": "markdown",
      "source": [
        ">**Verification:** The relative proportion defines a probability function.\n",
        "\n",
        "1. $Prop(M)\\geq 0$\n",
        "2. $\\sum Prop(M)=1$"
      ],
      "metadata": {
        "id": "fqcSrFN8VTav"
      }
    },
    {
      "cell_type": "code",
      "source": [
        "dfm['Murder']/dfm['Murder'].sum()"
      ],
      "metadata": {
        "colab": {
          "base_uri": "https://localhost:8080/"
        },
        "id": "CpJAuoQ_VeNq",
        "outputId": "67b0537f-0152-40a7-8136-a8020656ca54"
      },
      "execution_count": null,
      "outputs": [
        {
          "output_type": "execute_result",
          "data": {
            "text/plain": [
              "0    0.154054\n",
              "1    0.151351\n",
              "2    0.127027\n",
              "3    0.151351\n",
              "4    0.118919\n",
              "5    0.075676\n",
              "6    0.064865\n",
              "7    0.156757\n",
              "Name: Murder, dtype: float64"
            ]
          },
          "metadata": {},
          "execution_count": 74
        }
      ]
    },
    {
      "cell_type": "code",
      "source": [
        "np.sum(dfm['Murder']/dfm['Murder'].sum())"
      ],
      "metadata": {
        "colab": {
          "base_uri": "https://localhost:8080/"
        },
        "id": "NU_dvHt0TNuq",
        "outputId": "48a76380-5581-4b66-c404-f1af68adeb4d"
      },
      "execution_count": null,
      "outputs": [
        {
          "output_type": "execute_result",
          "data": {
            "text/plain": [
              "1.0"
            ]
          },
          "metadata": {},
          "execution_count": 73
        }
      ]
    },
    {
      "cell_type": "markdown",
      "source": [
        "##  Find the standard deviation and coefficient of variation for the following frequency distribution\n",
        "\n",
        "\\begin{array}{|c|c|c|c|c|c|c|c|c|}\\hline\n",
        "Class:&0-10&10-20&20-30&30-40&40-50&50-60&60-70&70-80\\\\\\hline\n",
        "Frequency:&5&10&20&40&30&20&10&5\\\\\\hline\n",
        "\\end{array}"
      ],
      "metadata": {
        "id": "t-OeMMw9Vte4"
      }
    },
    {
      "cell_type": "code",
      "source": [
        "## creating data for calculation\n",
        "midx=[5,15,25,35,45,55,65,75]\n",
        "freqs=[5,10,20,40,30,20,10,5]"
      ],
      "metadata": {
        "id": "4v7IqrXEYZr9"
      },
      "execution_count": null,
      "outputs": []
    },
    {
      "cell_type": "code",
      "source": [
        "def descriptives_from_agg(midx, freqs):\n",
        "    midx = np.array(midx)\n",
        "    freqs = np.array(freqs)\n",
        "    count = freqs.sum()\n",
        "    fx = midx * freqs\n",
        "    mean = fx.sum() / count\n",
        "    variance = ((freqs * midx**2).sum() / count) - mean**2\n",
        "    variance = count / (count - 1) * variance  # dof correction for sample variance\n",
        "    std = np.sqrt(variance)\n",
        "    minimum = np.min(midx)\n",
        "    maximum = np.max(midx)\n",
        "    CV=std/mean *100\n",
        "    idx = ['count', 'mean','variance', 'std', 'min','max', 'CV']\n",
        "    result = pd.Series([count, mean, variance, std, minimum, maximum,CV], index=idx)\n",
        "    return result"
      ],
      "metadata": {
        "id": "80iH1lynXq6y"
      },
      "execution_count": null,
      "outputs": []
    },
    {
      "cell_type": "code",
      "source": [
        "## calling function\n",
        "descriptives_from_agg(midx, freqs)"
      ],
      "metadata": {
        "colab": {
          "base_uri": "https://localhost:8080/"
        },
        "id": "UFa7Sua6ZFEl",
        "outputId": "7491c7fc-7c1a-41cb-9a52-4b2d6cac78a0"
      },
      "execution_count": null,
      "outputs": [
        {
          "output_type": "execute_result",
          "data": {
            "text/plain": [
              "count       140.000000\n",
              "mean         39.642857\n",
              "variance    255.267215\n",
              "std          15.977084\n",
              "min           5.000000\n",
              "max          75.000000\n",
              "CV           40.302554\n",
              "dtype: float64"
            ]
          },
          "metadata": {},
          "execution_count": 86
        }
      ]
    },
    {
      "cell_type": "markdown",
      "source": [
        "## Binomial problem"
      ],
      "metadata": {
        "id": "KoGbcyRFbgZS"
      }
    },
    {
      "cell_type": "code",
      "source": [
        "from scipy.stats import binom\n",
        "n = 6\n",
        "p = 0.25\n",
        "x = np.arange(0, n+1)\n"
      ],
      "metadata": {
        "id": "HBYlR5Tebi_o"
      },
      "execution_count": null,
      "outputs": []
    },
    {
      "cell_type": "code",
      "source": [
        "binomial_pmf = binom.pmf(x,n,p)\n",
        "print(binomial_pmf)"
      ],
      "metadata": {
        "colab": {
          "base_uri": "https://localhost:8080/"
        },
        "id": "m5BfjMlIbq6D",
        "outputId": "590ec513-d412-4b83-d7b4-3b4be92f0b36"
      },
      "execution_count": null,
      "outputs": [
        {
          "output_type": "stream",
          "name": "stdout",
          "text": [
            "[1.77978516e-01 3.55957031e-01 2.96630859e-01 1.31835937e-01\n",
            " 3.29589844e-02 4.39453125e-03 2.44140625e-04]\n"
          ]
        }
      ]
    },
    {
      "cell_type": "code",
      "source": [
        "binom.pmf(4,n,p)"
      ],
      "metadata": {
        "colab": {
          "base_uri": "https://localhost:8080/"
        },
        "id": "D6_ILj64b73N",
        "outputId": "88758594-10ee-401d-cde1-03acda34ece3"
      },
      "execution_count": null,
      "outputs": [
        {
          "output_type": "execute_result",
          "data": {
            "text/plain": [
              "0.03295898437499997"
            ]
          },
          "metadata": {},
          "execution_count": 93
        }
      ]
    },
    {
      "cell_type": "code",
      "source": [
        "1-binom.cdf(0,n,p)"
      ],
      "metadata": {
        "colab": {
          "base_uri": "https://localhost:8080/"
        },
        "id": "lyEiMLr9cDa1",
        "outputId": "8217d6b9-42fd-4a22-ffed-b167cf94d3e5"
      },
      "execution_count": null,
      "outputs": [
        {
          "output_type": "execute_result",
          "data": {
            "text/plain": [
              "0.822021484375"
            ]
          },
          "metadata": {},
          "execution_count": 98
        }
      ]
    },
    {
      "cell_type": "markdown",
      "source": [
        "## 18. Poisson distribution"
      ],
      "metadata": {
        "id": "h_xslw0bc2q2"
      }
    },
    {
      "cell_type": "code",
      "source": [
        "from scipy.stats import poisson\n",
        "k=6\n",
        "mu=3.4\n",
        "#calculate probability\n",
        "poisson.pmf(k,mu)\n",
        "\n",
        "0.100819"
      ],
      "metadata": {
        "colab": {
          "base_uri": "https://localhost:8080/"
        },
        "id": "GXYeTcLpc66j",
        "outputId": "28a789a3-1825-4821-b56b-388f48e2c592"
      },
      "execution_count": null,
      "outputs": [
        {
          "output_type": "execute_result",
          "data": {
            "text/plain": [
              "0.100819"
            ]
          },
          "metadata": {},
          "execution_count": 99
        }
      ]
    },
    {
      "cell_type": "markdown",
      "source": [
        "## 19. Testing of independence using $\\chi^2$"
      ],
      "metadata": {
        "id": "DtzUzknydMlw"
      }
    },
    {
      "cell_type": "code",
      "source": [
        "import scipy.stats as stats\n"
      ],
      "metadata": {
        "id": "LkaAAniZduqb"
      },
      "execution_count": null,
      "outputs": []
    },
    {
      "cell_type": "code",
      "source": [
        "crosstab=np.array([[60, 54, 46, 41],[40, 44, 53,57]])"
      ],
      "metadata": {
        "id": "bAi6efcyd0Cc"
      },
      "execution_count": null,
      "outputs": []
    },
    {
      "cell_type": "code",
      "source": [
        "stats.chi2_contingency(crosstab)\n"
      ],
      "metadata": {
        "colab": {
          "base_uri": "https://localhost:8080/"
        },
        "id": "7LmhwLqud0kP",
        "outputId": "fbf661ed-6e2e-48d2-b8db-019dae257889"
      },
      "execution_count": null,
      "outputs": [
        {
          "output_type": "execute_result",
          "data": {
            "text/plain": [
              "(8.006066246262538,\n",
              " 0.045886500891747214,\n",
              " 3,\n",
              " array([[50.88607595, 49.86835443, 50.37721519, 49.86835443],\n",
              "        [49.11392405, 48.13164557, 48.62278481, 48.13164557]]))"
            ]
          },
          "metadata": {},
          "execution_count": 104
        }
      ]
    },
    {
      "cell_type": "markdown",
      "source": [
        "**Conclusion:** Here the test statistics, $\\chi^2(3)=8.006$ with p-value $0.045< 0.05$. So the nnull hypotheis that, the distribution is independent is rejected."
      ],
      "metadata": {
        "id": "FpiqEcfReSlO"
      }
    },
    {
      "cell_type": "markdown",
      "source": [
        "## 20.  Coefficient of correlation"
      ],
      "metadata": {
        "id": "OrOx_qfyeyzr"
      }
    },
    {
      "cell_type": "code",
      "source": [
        "Hand=np.array([17,15,19,17,21]); Height=np.array([150,154,169,172,175])"
      ],
      "metadata": {
        "id": "ofK0JGsKfXDZ"
      },
      "execution_count": null,
      "outputs": []
    },
    {
      "cell_type": "code",
      "source": [
        "pearsons_coefficient = np.corrcoef(Hand, Height)\n",
        "print(\"The pearson's coeffient of the Hand and Height inputs are: \\n\" ,pearsons_coefficient)\n"
      ],
      "metadata": {
        "colab": {
          "base_uri": "https://localhost:8080/"
        },
        "id": "VinOiQcAfAIA",
        "outputId": "1f1c01a8-938c-488f-e4a5-c3828b28dbcc"
      },
      "execution_count": null,
      "outputs": [
        {
          "output_type": "stream",
          "name": "stdout",
          "text": [
            "The pearson's coeffient of the Hand and Height inputs are: \n",
            " [[1.         0.72131472]\n",
            " [0.72131472 1.        ]]\n"
          ]
        }
      ]
    },
    {
      "cell_type": "markdown",
      "source": [
        "## 21. t-test"
      ],
      "metadata": {
        "id": "qnFl-9LSgSC1"
      }
    },
    {
      "cell_type": "code",
      "source": [
        "mu, sigma = 22, 3 # mean and standard deviation\n",
        "s = np.random.normal(mu, sigma, 1000)"
      ],
      "metadata": {
        "id": "1X8UFra2gUwo"
      },
      "execution_count": null,
      "outputs": []
    },
    {
      "cell_type": "code",
      "source": [
        "t_statistic, p = stats.ttest_1samp(a=s, popmean=20,alternative='two-sided')\n",
        "if p > 0.05:\n",
        " print('Probably equal')\n",
        "else:\n",
        " print('Probably not equal')\n",
        "print(t_statistic , p)"
      ],
      "metadata": {
        "colab": {
          "base_uri": "https://localhost:8080/"
        },
        "id": "l__YreNWg7sX",
        "outputId": "ca3b4d04-0bd3-49f7-956b-bf33b869f0d4"
      },
      "execution_count": null,
      "outputs": [
        {
          "output_type": "stream",
          "name": "stdout",
          "text": [
            "Probably not equal\n",
            "21.281656793515168 3.53432168940205e-83\n"
          ]
        }
      ]
    },
    {
      "cell_type": "markdown",
      "source": [
        "## 22. Missing data"
      ],
      "metadata": {
        "id": "Mqy3h51lgR8_"
      }
    },
    {
      "cell_type": "markdown",
      "source": [
        "## 23. Obtain a regression model to given data"
      ],
      "metadata": {
        "id": "Gon43ILdkLiN"
      }
    },
    {
      "cell_type": "code",
      "source": [
        "## reading data\n",
        "JS=np.array([34,23,19,43,56,47,32,16,55,25])\n",
        "SBP=np.array([124,128,157,133,116,125,147,167,110,156])\n",
        "dfl=pd.DataFrame({\"Js\":JS,\"SBP\":SBP})"
      ],
      "metadata": {
        "id": "2R53knemkj5y"
      },
      "execution_count": null,
      "outputs": []
    },
    {
      "cell_type": "code",
      "source": [
        "from statsmodels.formula.api import ols\n",
        "import statsmodels.api as sm\n",
        "model = ols('SBP ~ JS', data=dfl).fit()\n"
      ],
      "metadata": {
        "id": "t5hLr_b_kQ8l"
      },
      "execution_count": null,
      "outputs": []
    },
    {
      "cell_type": "code",
      "source": [
        "model.summary()"
      ],
      "metadata": {
        "colab": {
          "base_uri": "https://localhost:8080/",
          "height": 504
        },
        "id": "mrhoPWmMlOrJ",
        "outputId": "cdbda53c-2a53-4cee-96ef-e598a2ccdaac"
      },
      "execution_count": null,
      "outputs": [
        {
          "output_type": "stream",
          "name": "stderr",
          "text": [
            "/usr/local/lib/python3.8/dist-packages/scipy/stats/stats.py:1541: UserWarning: kurtosistest only valid for n>=20 ... continuing anyway, n=10\n",
            "  warnings.warn(\"kurtosistest only valid for n>=20 ... continuing \"\n"
          ]
        },
        {
          "output_type": "execute_result",
          "data": {
            "text/plain": [
              "<class 'statsmodels.iolib.summary.Summary'>\n",
              "\"\"\"\n",
              "                            OLS Regression Results                            \n",
              "==============================================================================\n",
              "Dep. Variable:                    SBP   R-squared:                       0.719\n",
              "Model:                            OLS   Adj. R-squared:                  0.684\n",
              "Method:                 Least Squares   F-statistic:                     20.47\n",
              "Date:                Tue, 24 Jan 2023   Prob (F-statistic):            0.00194\n",
              "Time:                        07:01:42   Log-Likelihood:                -36.893\n",
              "No. Observations:                  10   AIC:                             77.79\n",
              "Df Residuals:                       8   BIC:                             78.39\n",
              "Df Model:                           1                                         \n",
              "Covariance Type:            nonrobust                                         \n",
              "==============================================================================\n",
              "                 coef    std err          t      P>|t|      [0.025      0.975]\n",
              "------------------------------------------------------------------------------\n",
              "Intercept    175.4198      9.300     18.863      0.000     153.974     196.865\n",
              "JS            -1.1177      0.247     -4.524      0.002      -1.687      -0.548\n",
              "==============================================================================\n",
              "Omnibus:                        4.926   Durbin-Watson:                   1.123\n",
              "Prob(Omnibus):                  0.085   Jarque-Bera (JB):                2.280\n",
              "Skew:                          -1.168   Prob(JB):                        0.320\n",
              "Kurtosis:                       3.098   Cond. No.                         102.\n",
              "==============================================================================\n",
              "\n",
              "Notes:\n",
              "[1] Standard Errors assume that the covariance matrix of the errors is correctly specified.\n",
              "\"\"\""
            ],
            "text/html": [
              "<table class=\"simpletable\">\n",
              "<caption>OLS Regression Results</caption>\n",
              "<tr>\n",
              "  <th>Dep. Variable:</th>           <td>SBP</td>       <th>  R-squared:         </th> <td>   0.719</td>\n",
              "</tr>\n",
              "<tr>\n",
              "  <th>Model:</th>                   <td>OLS</td>       <th>  Adj. R-squared:    </th> <td>   0.684</td>\n",
              "</tr>\n",
              "<tr>\n",
              "  <th>Method:</th>             <td>Least Squares</td>  <th>  F-statistic:       </th> <td>   20.47</td>\n",
              "</tr>\n",
              "<tr>\n",
              "  <th>Date:</th>             <td>Tue, 24 Jan 2023</td> <th>  Prob (F-statistic):</th>  <td>0.00194</td>\n",
              "</tr>\n",
              "<tr>\n",
              "  <th>Time:</th>                 <td>07:01:42</td>     <th>  Log-Likelihood:    </th> <td> -36.893</td>\n",
              "</tr>\n",
              "<tr>\n",
              "  <th>No. Observations:</th>      <td>    10</td>      <th>  AIC:               </th> <td>   77.79</td>\n",
              "</tr>\n",
              "<tr>\n",
              "  <th>Df Residuals:</th>          <td>     8</td>      <th>  BIC:               </th> <td>   78.39</td>\n",
              "</tr>\n",
              "<tr>\n",
              "  <th>Df Model:</th>              <td>     1</td>      <th>                     </th>     <td> </td>   \n",
              "</tr>\n",
              "<tr>\n",
              "  <th>Covariance Type:</th>      <td>nonrobust</td>    <th>                     </th>     <td> </td>   \n",
              "</tr>\n",
              "</table>\n",
              "<table class=\"simpletable\">\n",
              "<tr>\n",
              "      <td></td>         <th>coef</th>     <th>std err</th>      <th>t</th>      <th>P>|t|</th>  <th>[0.025</th>    <th>0.975]</th>  \n",
              "</tr>\n",
              "<tr>\n",
              "  <th>Intercept</th> <td>  175.4198</td> <td>    9.300</td> <td>   18.863</td> <td> 0.000</td> <td>  153.974</td> <td>  196.865</td>\n",
              "</tr>\n",
              "<tr>\n",
              "  <th>JS</th>        <td>   -1.1177</td> <td>    0.247</td> <td>   -4.524</td> <td> 0.002</td> <td>   -1.687</td> <td>   -0.548</td>\n",
              "</tr>\n",
              "</table>\n",
              "<table class=\"simpletable\">\n",
              "<tr>\n",
              "  <th>Omnibus:</th>       <td> 4.926</td> <th>  Durbin-Watson:     </th> <td>   1.123</td>\n",
              "</tr>\n",
              "<tr>\n",
              "  <th>Prob(Omnibus):</th> <td> 0.085</td> <th>  Jarque-Bera (JB):  </th> <td>   2.280</td>\n",
              "</tr>\n",
              "<tr>\n",
              "  <th>Skew:</th>          <td>-1.168</td> <th>  Prob(JB):          </th> <td>   0.320</td>\n",
              "</tr>\n",
              "<tr>\n",
              "  <th>Kurtosis:</th>      <td> 3.098</td> <th>  Cond. No.          </th> <td>    102.</td>\n",
              "</tr>\n",
              "</table><br/><br/>Notes:<br/>[1] Standard Errors assume that the covariance matrix of the errors is correctly specified."
            ]
          },
          "metadata": {},
          "execution_count": 119
        }
      ]
    },
    {
      "cell_type": "code",
      "source": [
        "aov_table = sm.stats.anova_lm(model, typ=2)\n",
        "aov_table"
      ],
      "metadata": {
        "colab": {
          "base_uri": "https://localhost:8080/",
          "height": 112
        },
        "id": "XeTP6vFvlNFp",
        "outputId": "09f5f1df-5cdc-4a1d-9b41-1836f8f13b72"
      },
      "execution_count": null,
      "outputs": [
        {
          "output_type": "execute_result",
          "data": {
            "text/plain": [
              "               sum_sq   df          F    PR(>F)\n",
              "JS        2398.602083  1.0  20.468117  0.001939\n",
              "Residual   937.497917  8.0        NaN       NaN"
            ],
            "text/html": [
              "\n",
              "  <div id=\"df-317c1d5f-5410-40b7-a07b-4ea9dcf20c5f\">\n",
              "    <div class=\"colab-df-container\">\n",
              "      <div>\n",
              "<style scoped>\n",
              "    .dataframe tbody tr th:only-of-type {\n",
              "        vertical-align: middle;\n",
              "    }\n",
              "\n",
              "    .dataframe tbody tr th {\n",
              "        vertical-align: top;\n",
              "    }\n",
              "\n",
              "    .dataframe thead th {\n",
              "        text-align: right;\n",
              "    }\n",
              "</style>\n",
              "<table border=\"1\" class=\"dataframe\">\n",
              "  <thead>\n",
              "    <tr style=\"text-align: right;\">\n",
              "      <th></th>\n",
              "      <th>sum_sq</th>\n",
              "      <th>df</th>\n",
              "      <th>F</th>\n",
              "      <th>PR(&gt;F)</th>\n",
              "    </tr>\n",
              "  </thead>\n",
              "  <tbody>\n",
              "    <tr>\n",
              "      <th>JS</th>\n",
              "      <td>2398.602083</td>\n",
              "      <td>1.0</td>\n",
              "      <td>20.468117</td>\n",
              "      <td>0.001939</td>\n",
              "    </tr>\n",
              "    <tr>\n",
              "      <th>Residual</th>\n",
              "      <td>937.497917</td>\n",
              "      <td>8.0</td>\n",
              "      <td>NaN</td>\n",
              "      <td>NaN</td>\n",
              "    </tr>\n",
              "  </tbody>\n",
              "</table>\n",
              "</div>\n",
              "      <button class=\"colab-df-convert\" onclick=\"convertToInteractive('df-317c1d5f-5410-40b7-a07b-4ea9dcf20c5f')\"\n",
              "              title=\"Convert this dataframe to an interactive table.\"\n",
              "              style=\"display:none;\">\n",
              "        \n",
              "  <svg xmlns=\"http://www.w3.org/2000/svg\" height=\"24px\"viewBox=\"0 0 24 24\"\n",
              "       width=\"24px\">\n",
              "    <path d=\"M0 0h24v24H0V0z\" fill=\"none\"/>\n",
              "    <path d=\"M18.56 5.44l.94 2.06.94-2.06 2.06-.94-2.06-.94-.94-2.06-.94 2.06-2.06.94zm-11 1L8.5 8.5l.94-2.06 2.06-.94-2.06-.94L8.5 2.5l-.94 2.06-2.06.94zm10 10l.94 2.06.94-2.06 2.06-.94-2.06-.94-.94-2.06-.94 2.06-2.06.94z\"/><path d=\"M17.41 7.96l-1.37-1.37c-.4-.4-.92-.59-1.43-.59-.52 0-1.04.2-1.43.59L10.3 9.45l-7.72 7.72c-.78.78-.78 2.05 0 2.83L4 21.41c.39.39.9.59 1.41.59.51 0 1.02-.2 1.41-.59l7.78-7.78 2.81-2.81c.8-.78.8-2.07 0-2.86zM5.41 20L4 18.59l7.72-7.72 1.47 1.35L5.41 20z\"/>\n",
              "  </svg>\n",
              "      </button>\n",
              "      \n",
              "  <style>\n",
              "    .colab-df-container {\n",
              "      display:flex;\n",
              "      flex-wrap:wrap;\n",
              "      gap: 12px;\n",
              "    }\n",
              "\n",
              "    .colab-df-convert {\n",
              "      background-color: #E8F0FE;\n",
              "      border: none;\n",
              "      border-radius: 50%;\n",
              "      cursor: pointer;\n",
              "      display: none;\n",
              "      fill: #1967D2;\n",
              "      height: 32px;\n",
              "      padding: 0 0 0 0;\n",
              "      width: 32px;\n",
              "    }\n",
              "\n",
              "    .colab-df-convert:hover {\n",
              "      background-color: #E2EBFA;\n",
              "      box-shadow: 0px 1px 2px rgba(60, 64, 67, 0.3), 0px 1px 3px 1px rgba(60, 64, 67, 0.15);\n",
              "      fill: #174EA6;\n",
              "    }\n",
              "\n",
              "    [theme=dark] .colab-df-convert {\n",
              "      background-color: #3B4455;\n",
              "      fill: #D2E3FC;\n",
              "    }\n",
              "\n",
              "    [theme=dark] .colab-df-convert:hover {\n",
              "      background-color: #434B5C;\n",
              "      box-shadow: 0px 1px 3px 1px rgba(0, 0, 0, 0.15);\n",
              "      filter: drop-shadow(0px 1px 2px rgba(0, 0, 0, 0.3));\n",
              "      fill: #FFFFFF;\n",
              "    }\n",
              "  </style>\n",
              "\n",
              "      <script>\n",
              "        const buttonEl =\n",
              "          document.querySelector('#df-317c1d5f-5410-40b7-a07b-4ea9dcf20c5f button.colab-df-convert');\n",
              "        buttonEl.style.display =\n",
              "          google.colab.kernel.accessAllowed ? 'block' : 'none';\n",
              "\n",
              "        async function convertToInteractive(key) {\n",
              "          const element = document.querySelector('#df-317c1d5f-5410-40b7-a07b-4ea9dcf20c5f');\n",
              "          const dataTable =\n",
              "            await google.colab.kernel.invokeFunction('convertToInteractive',\n",
              "                                                     [key], {});\n",
              "          if (!dataTable) return;\n",
              "\n",
              "          const docLinkHtml = 'Like what you see? Visit the ' +\n",
              "            '<a target=\"_blank\" href=https://colab.research.google.com/notebooks/data_table.ipynb>data table notebook</a>'\n",
              "            + ' to learn more about interactive tables.';\n",
              "          element.innerHTML = '';\n",
              "          dataTable['output_type'] = 'display_data';\n",
              "          await google.colab.output.renderOutput(dataTable, element);\n",
              "          const docLink = document.createElement('div');\n",
              "          docLink.innerHTML = docLinkHtml;\n",
              "          element.appendChild(docLink);\n",
              "        }\n",
              "      </script>\n",
              "    </div>\n",
              "  </div>\n",
              "  "
            ]
          },
          "metadata": {},
          "execution_count": 125
        }
      ]
    },
    {
      "cell_type": "code",
      "source": [
        "def anova_table(aov):\n",
        "    aov['mean_sq'] = aov[:]['sum_sq']/aov[:]['df']\n",
        "\n",
        "    aov['eta_sq'] = aov[:-1]['sum_sq']/sum(aov['sum_sq'])\n",
        "\n",
        "    aov['omega_sq'] = (aov[:-1]['sum_sq']-(aov[:-1]['df']*aov['mean_sq'][-1]))/(sum(aov['sum_sq'])+aov['mean_sq'][-1])\n",
        "\n",
        "    cols = ['sum_sq', 'df', 'mean_sq', 'F', 'PR(>F)', 'eta_sq', 'omega_sq']\n",
        "    aov = aov[cols]\n",
        "    return aov\n",
        "\n",
        "anova_table(aov_table)"
      ],
      "metadata": {
        "id": "6hftGGcLmZJs",
        "outputId": "327e2533-bf5e-4d9a-9baa-fde86ccdd3ce",
        "colab": {
          "base_uri": "https://localhost:8080/",
          "height": 112
        }
      },
      "execution_count": null,
      "outputs": [
        {
          "output_type": "execute_result",
          "data": {
            "text/plain": [
              "               sum_sq   df      mean_sq          F    PR(>F)    eta_sq  \\\n",
              "JS        2398.602083  1.0  2398.602083  20.468117  0.001939  0.718984   \n",
              "Residual   937.497917  8.0   117.187240        NaN       NaN       NaN   \n",
              "\n",
              "          omega_sq  \n",
              "JS         0.66065  \n",
              "Residual       NaN  "
            ],
            "text/html": [
              "\n",
              "  <div id=\"df-e21fd566-b6ed-49f4-9ebe-91f84e085ba2\">\n",
              "    <div class=\"colab-df-container\">\n",
              "      <div>\n",
              "<style scoped>\n",
              "    .dataframe tbody tr th:only-of-type {\n",
              "        vertical-align: middle;\n",
              "    }\n",
              "\n",
              "    .dataframe tbody tr th {\n",
              "        vertical-align: top;\n",
              "    }\n",
              "\n",
              "    .dataframe thead th {\n",
              "        text-align: right;\n",
              "    }\n",
              "</style>\n",
              "<table border=\"1\" class=\"dataframe\">\n",
              "  <thead>\n",
              "    <tr style=\"text-align: right;\">\n",
              "      <th></th>\n",
              "      <th>sum_sq</th>\n",
              "      <th>df</th>\n",
              "      <th>mean_sq</th>\n",
              "      <th>F</th>\n",
              "      <th>PR(&gt;F)</th>\n",
              "      <th>eta_sq</th>\n",
              "      <th>omega_sq</th>\n",
              "    </tr>\n",
              "  </thead>\n",
              "  <tbody>\n",
              "    <tr>\n",
              "      <th>JS</th>\n",
              "      <td>2398.602083</td>\n",
              "      <td>1.0</td>\n",
              "      <td>2398.602083</td>\n",
              "      <td>20.468117</td>\n",
              "      <td>0.001939</td>\n",
              "      <td>0.718984</td>\n",
              "      <td>0.66065</td>\n",
              "    </tr>\n",
              "    <tr>\n",
              "      <th>Residual</th>\n",
              "      <td>937.497917</td>\n",
              "      <td>8.0</td>\n",
              "      <td>117.187240</td>\n",
              "      <td>NaN</td>\n",
              "      <td>NaN</td>\n",
              "      <td>NaN</td>\n",
              "      <td>NaN</td>\n",
              "    </tr>\n",
              "  </tbody>\n",
              "</table>\n",
              "</div>\n",
              "      <button class=\"colab-df-convert\" onclick=\"convertToInteractive('df-e21fd566-b6ed-49f4-9ebe-91f84e085ba2')\"\n",
              "              title=\"Convert this dataframe to an interactive table.\"\n",
              "              style=\"display:none;\">\n",
              "        \n",
              "  <svg xmlns=\"http://www.w3.org/2000/svg\" height=\"24px\"viewBox=\"0 0 24 24\"\n",
              "       width=\"24px\">\n",
              "    <path d=\"M0 0h24v24H0V0z\" fill=\"none\"/>\n",
              "    <path d=\"M18.56 5.44l.94 2.06.94-2.06 2.06-.94-2.06-.94-.94-2.06-.94 2.06-2.06.94zm-11 1L8.5 8.5l.94-2.06 2.06-.94-2.06-.94L8.5 2.5l-.94 2.06-2.06.94zm10 10l.94 2.06.94-2.06 2.06-.94-2.06-.94-.94-2.06-.94 2.06-2.06.94z\"/><path d=\"M17.41 7.96l-1.37-1.37c-.4-.4-.92-.59-1.43-.59-.52 0-1.04.2-1.43.59L10.3 9.45l-7.72 7.72c-.78.78-.78 2.05 0 2.83L4 21.41c.39.39.9.59 1.41.59.51 0 1.02-.2 1.41-.59l7.78-7.78 2.81-2.81c.8-.78.8-2.07 0-2.86zM5.41 20L4 18.59l7.72-7.72 1.47 1.35L5.41 20z\"/>\n",
              "  </svg>\n",
              "      </button>\n",
              "      \n",
              "  <style>\n",
              "    .colab-df-container {\n",
              "      display:flex;\n",
              "      flex-wrap:wrap;\n",
              "      gap: 12px;\n",
              "    }\n",
              "\n",
              "    .colab-df-convert {\n",
              "      background-color: #E8F0FE;\n",
              "      border: none;\n",
              "      border-radius: 50%;\n",
              "      cursor: pointer;\n",
              "      display: none;\n",
              "      fill: #1967D2;\n",
              "      height: 32px;\n",
              "      padding: 0 0 0 0;\n",
              "      width: 32px;\n",
              "    }\n",
              "\n",
              "    .colab-df-convert:hover {\n",
              "      background-color: #E2EBFA;\n",
              "      box-shadow: 0px 1px 2px rgba(60, 64, 67, 0.3), 0px 1px 3px 1px rgba(60, 64, 67, 0.15);\n",
              "      fill: #174EA6;\n",
              "    }\n",
              "\n",
              "    [theme=dark] .colab-df-convert {\n",
              "      background-color: #3B4455;\n",
              "      fill: #D2E3FC;\n",
              "    }\n",
              "\n",
              "    [theme=dark] .colab-df-convert:hover {\n",
              "      background-color: #434B5C;\n",
              "      box-shadow: 0px 1px 3px 1px rgba(0, 0, 0, 0.15);\n",
              "      filter: drop-shadow(0px 1px 2px rgba(0, 0, 0, 0.3));\n",
              "      fill: #FFFFFF;\n",
              "    }\n",
              "  </style>\n",
              "\n",
              "      <script>\n",
              "        const buttonEl =\n",
              "          document.querySelector('#df-e21fd566-b6ed-49f4-9ebe-91f84e085ba2 button.colab-df-convert');\n",
              "        buttonEl.style.display =\n",
              "          google.colab.kernel.accessAllowed ? 'block' : 'none';\n",
              "\n",
              "        async function convertToInteractive(key) {\n",
              "          const element = document.querySelector('#df-e21fd566-b6ed-49f4-9ebe-91f84e085ba2');\n",
              "          const dataTable =\n",
              "            await google.colab.kernel.invokeFunction('convertToInteractive',\n",
              "                                                     [key], {});\n",
              "          if (!dataTable) return;\n",
              "\n",
              "          const docLinkHtml = 'Like what you see? Visit the ' +\n",
              "            '<a target=\"_blank\" href=https://colab.research.google.com/notebooks/data_table.ipynb>data table notebook</a>'\n",
              "            + ' to learn more about interactive tables.';\n",
              "          element.innerHTML = '';\n",
              "          dataTable['output_type'] = 'display_data';\n",
              "          await google.colab.output.renderOutput(dataTable, element);\n",
              "          const docLink = document.createElement('div');\n",
              "          docLink.innerHTML = docLinkHtml;\n",
              "          element.appendChild(docLink);\n",
              "        }\n",
              "      </script>\n",
              "    </div>\n",
              "  </div>\n",
              "  "
            ]
          },
          "metadata": {},
          "execution_count": 126
        }
      ]
    }
  ]
}